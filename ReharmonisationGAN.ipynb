{
  "cells": [
    {
      "cell_type": "markdown",
      "metadata": {
        "id": "view-in-github",
        "colab_type": "text"
      },
      "source": [
        "<a href=\"https://colab.research.google.com/github/lwgmiller/HonoursProject-reharmonisationGAN/blob/main/ReharmonisationGAN.ipynb\" target=\"_parent\"><img src=\"https://colab.research.google.com/assets/colab-badge.svg\" alt=\"Open In Colab\"/></a>"
      ]
    },
    {
      "cell_type": "code",
      "execution_count": null,
      "metadata": {
        "id": "JQ6n7tfiGpbP"
      },
      "outputs": [],
      "source": [
        "%tensorflow_version 2.x\n",
        "import tensorflow as tf\n",
        "print(\"Tensorflow version \" + tf.__version__)\n",
        "\n",
        "try:\n",
        "  tpu = tf.distribute.cluster_resolver.TPUClusterResolver()  # TPU detection\n",
        "  print('Running on TPU ', tpu.cluster_spec().as_dict()['worker'])\n",
        "except ValueError:\n",
        "  raise BaseException('ERROR: Not connected to a TPU runtime; please see the previous cell in this notebook for instructions!')\n",
        "\n",
        "tf.config.experimental_connect_to_cluster(tpu)\n",
        "tf.tpu.experimental.initialize_tpu_system(tpu)\n",
        "tpu_strategy = tf.distribute.experimental.TPUStrategy(tpu)"
      ]
    },
    {
      "cell_type": "code",
      "source": [
        "!apt-get install python3.5\n",
        "\n",
        "print(python_version())"
      ],
      "metadata": {
        "id": "NDELk2QPwvoi"
      },
      "execution_count": null,
      "outputs": []
    },
    {
      "cell_type": "code",
      "execution_count": 1,
      "metadata": {
        "id": "ac-5GJasG6Si",
        "colab": {
          "base_uri": "https://localhost:8080/",
          "height": 1000
        },
        "outputId": "afe9a3dd-4db2-406c-c968-3302feb64677"
      },
      "outputs": [
        {
          "output_type": "stream",
          "name": "stdout",
          "text": [
            "Requirement already satisfied: torch in /usr/local/lib/python3.7/dist-packages (1.10.0+cu111)\n",
            "Requirement already satisfied: matplotlib in /usr/local/lib/python3.7/dist-packages (3.2.2)\n",
            "Requirement already satisfied: tqdm in /usr/local/lib/python3.7/dist-packages (4.64.0)\n",
            "Collecting livelossplot\n",
            "  Downloading livelossplot-0.5.5-py3-none-any.whl (22 kB)\n",
            "Requirement already satisfied: gdown in /usr/local/lib/python3.7/dist-packages (4.4.0)\n",
            "Collecting pypianoroll>=1.0.2\n",
            "  Downloading pypianoroll-1.0.4-py3-none-any.whl (26 kB)\n",
            "Collecting pretty-midi>=0.2.8\n",
            "  Downloading pretty_midi-0.2.9.tar.gz (5.6 MB)\n",
            "\u001b[K     |████████████████████████████████| 5.6 MB 7.5 MB/s \n",
            "\u001b[?25hRequirement already satisfied: scipy>=1.0.0 in /usr/local/lib/python3.7/dist-packages (from pypianoroll>=1.0.2) (1.4.1)\n",
            "Requirement already satisfied: numpy>=1.12.0 in /usr/local/lib/python3.7/dist-packages (from pypianoroll>=1.0.2) (1.21.5)\n",
            "Requirement already satisfied: python-dateutil>=2.1 in /usr/local/lib/python3.7/dist-packages (from matplotlib) (2.8.2)\n",
            "Requirement already satisfied: cycler>=0.10 in /usr/local/lib/python3.7/dist-packages (from matplotlib) (0.11.0)\n",
            "Requirement already satisfied: kiwisolver>=1.0.1 in /usr/local/lib/python3.7/dist-packages (from matplotlib) (1.4.2)\n",
            "Requirement already satisfied: pyparsing!=2.0.4,!=2.1.2,!=2.1.6,>=2.0.1 in /usr/local/lib/python3.7/dist-packages (from matplotlib) (3.0.8)\n",
            "Requirement already satisfied: typing-extensions in /usr/local/lib/python3.7/dist-packages (from kiwisolver>=1.0.1->matplotlib) (4.1.1)\n",
            "Collecting mido>=1.1.16\n",
            "  Downloading mido-1.2.10-py2.py3-none-any.whl (51 kB)\n",
            "\u001b[K     |████████████████████████████████| 51 kB 5.2 MB/s \n",
            "\u001b[?25hRequirement already satisfied: six in /usr/local/lib/python3.7/dist-packages (from pretty-midi>=0.2.8->pypianoroll>=1.0.2) (1.15.0)\n",
            "Collecting ipython==7.*\n",
            "  Downloading ipython-7.32.0-py3-none-any.whl (793 kB)\n",
            "\u001b[K     |████████████████████████████████| 793 kB 47.9 MB/s \n",
            "\u001b[?25hRequirement already satisfied: bokeh in /usr/local/lib/python3.7/dist-packages (from livelossplot) (2.3.3)\n",
            "Collecting prompt-toolkit!=3.0.0,!=3.0.1,<3.1.0,>=2.0.0\n",
            "  Downloading prompt_toolkit-3.0.29-py3-none-any.whl (381 kB)\n",
            "\u001b[K     |████████████████████████████████| 381 kB 56.7 MB/s \n",
            "\u001b[?25hRequirement already satisfied: decorator in /usr/local/lib/python3.7/dist-packages (from ipython==7.*->livelossplot) (4.4.2)\n",
            "Requirement already satisfied: matplotlib-inline in /usr/local/lib/python3.7/dist-packages (from ipython==7.*->livelossplot) (0.1.3)\n",
            "Requirement already satisfied: pickleshare in /usr/local/lib/python3.7/dist-packages (from ipython==7.*->livelossplot) (0.7.5)\n",
            "Requirement already satisfied: traitlets>=4.2 in /usr/local/lib/python3.7/dist-packages (from ipython==7.*->livelossplot) (5.1.1)\n",
            "Requirement already satisfied: pygments in /usr/local/lib/python3.7/dist-packages (from ipython==7.*->livelossplot) (2.6.1)\n",
            "Requirement already satisfied: jedi>=0.16 in /usr/local/lib/python3.7/dist-packages (from ipython==7.*->livelossplot) (0.18.1)\n",
            "Requirement already satisfied: backcall in /usr/local/lib/python3.7/dist-packages (from ipython==7.*->livelossplot) (0.2.0)\n",
            "Requirement already satisfied: setuptools>=18.5 in /usr/local/lib/python3.7/dist-packages (from ipython==7.*->livelossplot) (57.4.0)\n",
            "Requirement already satisfied: pexpect>4.3 in /usr/local/lib/python3.7/dist-packages (from ipython==7.*->livelossplot) (4.8.0)\n",
            "Requirement already satisfied: parso<0.9.0,>=0.8.0 in /usr/local/lib/python3.7/dist-packages (from jedi>=0.16->ipython==7.*->livelossplot) (0.8.3)\n",
            "Requirement already satisfied: ptyprocess>=0.5 in /usr/local/lib/python3.7/dist-packages (from pexpect>4.3->ipython==7.*->livelossplot) (0.7.0)\n",
            "Requirement already satisfied: wcwidth in /usr/local/lib/python3.7/dist-packages (from prompt-toolkit!=3.0.0,!=3.0.1,<3.1.0,>=2.0.0->ipython==7.*->livelossplot) (0.2.5)\n",
            "Requirement already satisfied: beautifulsoup4 in /usr/local/lib/python3.7/dist-packages (from gdown) (4.6.3)\n",
            "Requirement already satisfied: requests[socks] in /usr/local/lib/python3.7/dist-packages (from gdown) (2.23.0)\n",
            "Requirement already satisfied: filelock in /usr/local/lib/python3.7/dist-packages (from gdown) (3.6.0)\n",
            "Requirement already satisfied: PyYAML>=3.10 in /usr/local/lib/python3.7/dist-packages (from bokeh->livelossplot) (3.13)\n",
            "Requirement already satisfied: tornado>=5.1 in /usr/local/lib/python3.7/dist-packages (from bokeh->livelossplot) (5.1.1)\n",
            "Requirement already satisfied: packaging>=16.8 in /usr/local/lib/python3.7/dist-packages (from bokeh->livelossplot) (21.3)\n",
            "Requirement already satisfied: Jinja2>=2.9 in /usr/local/lib/python3.7/dist-packages (from bokeh->livelossplot) (2.11.3)\n",
            "Requirement already satisfied: pillow>=7.1.0 in /usr/local/lib/python3.7/dist-packages (from bokeh->livelossplot) (7.1.2)\n",
            "Requirement already satisfied: MarkupSafe>=0.23 in /usr/local/lib/python3.7/dist-packages (from Jinja2>=2.9->bokeh->livelossplot) (2.0.1)\n",
            "Requirement already satisfied: urllib3!=1.25.0,!=1.25.1,<1.26,>=1.21.1 in /usr/local/lib/python3.7/dist-packages (from requests[socks]->gdown) (1.24.3)\n",
            "Requirement already satisfied: idna<3,>=2.5 in /usr/local/lib/python3.7/dist-packages (from requests[socks]->gdown) (2.10)\n",
            "Requirement already satisfied: chardet<4,>=3.0.2 in /usr/local/lib/python3.7/dist-packages (from requests[socks]->gdown) (3.0.4)\n",
            "Requirement already satisfied: certifi>=2017.4.17 in /usr/local/lib/python3.7/dist-packages (from requests[socks]->gdown) (2021.10.8)\n",
            "Requirement already satisfied: PySocks!=1.5.7,>=1.5.6 in /usr/local/lib/python3.7/dist-packages (from requests[socks]->gdown) (1.7.1)\n",
            "Building wheels for collected packages: pretty-midi\n",
            "  Building wheel for pretty-midi (setup.py) ... \u001b[?25l\u001b[?25hdone\n",
            "  Created wheel for pretty-midi: filename=pretty_midi-0.2.9-py3-none-any.whl size=5591955 sha256=d4562ec39a7f7cac141705c3487757699c92d6fdae6e2dbed37dcbc0ff4a3458\n",
            "  Stored in directory: /root/.cache/pip/wheels/ad/74/7c/a06473ca8dcb63efb98c1e67667ce39d52100f837835ea18fa\n",
            "Successfully built pretty-midi\n",
            "Installing collected packages: prompt-toolkit, mido, pretty-midi, ipython, pypianoroll, livelossplot\n",
            "  Attempting uninstall: prompt-toolkit\n",
            "    Found existing installation: prompt-toolkit 1.0.18\n",
            "    Uninstalling prompt-toolkit-1.0.18:\n",
            "      Successfully uninstalled prompt-toolkit-1.0.18\n",
            "  Attempting uninstall: ipython\n",
            "    Found existing installation: ipython 5.5.0\n",
            "    Uninstalling ipython-5.5.0:\n",
            "      Successfully uninstalled ipython-5.5.0\n",
            "\u001b[31mERROR: pip's dependency resolver does not currently take into account all the packages that are installed. This behaviour is the source of the following dependency conflicts.\n",
            "jupyter-console 5.2.0 requires prompt-toolkit<2.0.0,>=1.0.0, but you have prompt-toolkit 3.0.29 which is incompatible.\n",
            "google-colab 1.0.0 requires ipython~=5.5.0, but you have ipython 7.32.0 which is incompatible.\u001b[0m\n",
            "Successfully installed ipython-7.32.0 livelossplot-0.5.5 mido-1.2.10 pretty-midi-0.2.9 prompt-toolkit-3.0.29 pypianoroll-1.0.4\n"
          ]
        },
        {
          "output_type": "display_data",
          "data": {
            "application/vnd.colab-display-data+json": {
              "pip_warning": {
                "packages": [
                  "IPython",
                  "prompt_toolkit"
                ]
              }
            }
          },
          "metadata": {}
        }
      ],
      "source": [
        "\n",
        "!pip3 install torch matplotlib tqdm livelossplot gdown \"pypianoroll>=1.0.2\"\n",
        "\n",
        "#!pip3 install py_midi\n",
        "#import midi"
      ]
    },
    {
      "cell_type": "code",
      "execution_count": 2,
      "metadata": {
        "colab": {
          "base_uri": "https://localhost:8080/"
        },
        "id": "35eGPXSOG52J",
        "outputId": "6a5985c7-22b4-46ae-c0e7-4f7acd051fdb"
      },
      "outputs": [
        {
          "output_type": "stream",
          "name": "stdout",
          "text": [
            "Imageio: 'ffmpeg-linux64-v3.3.1' was not found on your computer; downloading it now.\n",
            "Try 1. Download from https://github.com/imageio/imageio-binaries/raw/master/ffmpeg/ffmpeg-linux64-v3.3.1 (43.8 MB)\n",
            "Downloading: 8192/45929032 bytes (0.0%)\b\b\b\b\b\b\b\b\b\b\b\b\b\b\b\b\b\b\b\b\b\b\b\b\b\b1679360/45929032 bytes (3.7%)\b\b\b\b\b\b\b\b\b\b\b\b\b\b\b\b\b\b\b\b\b\b\b\b\b\b\b\b\b4079616/45929032 bytes (8.9%)\b\b\b\b\b\b\b\b\b\b\b\b\b\b\b\b\b\b\b\b\b\b\b\b\b\b\b\b\b6266880/45929032 bytes (13.6%)\b\b\b\b\b\b\b\b\b\b\b\b\b\b\b\b\b\b\b\b\b\b\b\b\b\b\b\b\b\b8151040/45929032 bytes (17.7%)\b\b\b\b\b\b\b\b\b\b\b\b\b\b\b\b\b\b\b\b\b\b\b\b\b\b\b\b\b\b10461184/45929032 bytes (22.8%)\b\b\b\b\b\b\b\b\b\b\b\b\b\b\b\b\b\b\b\b\b\b\b\b\b\b\b\b\b\b\b13377536/45929032 bytes (29.1%)\b\b\b\b\b\b\b\b\b\b\b\b\b\b\b\b\b\b\b\b\b\b\b\b\b\b\b\b\b\b\b14868480/45929032 bytes (32.4%)\b\b\b\b\b\b\b\b\b\b\b\b\b\b\b\b\b\b\b\b\b\b\b\b\b\b\b\b\b\b\b16973824/45929032 bytes (37.0%)\b\b\b\b\b\b\b\b\b\b\b\b\b\b\b\b\b\b\b\b\b\b\b\b\b\b\b\b\b\b\b18685952/45929032 bytes (40.7%)\b\b\b\b\b\b\b\b\b\b\b\b\b\b\b\b\b\b\b\b\b\b\b\b\b\b\b\b\b\b\b20627456/45929032 bytes (44.9%)\b\b\b\b\b\b\b\b\b\b\b\b\b\b\b\b\b\b\b\b\b\b\b\b\b\b\b\b\b\b\b22814720/45929032 bytes (49.7%)\b\b\b\b\b\b\b\b\b\b\b\b\b\b\b\b\b\b\b\b\b\b\b\b\b\b\b\b\b\b\b25600000/45929032 bytes (55.7%)\b\b\b\b\b\b\b\b\b\b\b\b\b\b\b\b\b\b\b\b\b\b\b\b\b\b\b\b\b\b\b28180480/45929032 bytes (61.4%)\b\b\b\b\b\b\b\b\b\b\b\b\b\b\b\b\b\b\b\b\b\b\b\b\b\b\b\b\b\b\b30449664/45929032 bytes (66.3%)\b\b\b\b\b\b\b\b\b\b\b\b\b\b\b\b\b\b\b\b\b\b\b\b\b\b\b\b\b\b\b32415744/45929032 bytes (70.6%)\b\b\b\b\b\b\b\b\b\b\b\b\b\b\b\b\b\b\b\b\b\b\b\b\b\b\b\b\b\b\b34660352/45929032 bytes (75.5%)\b\b\b\b\b\b\b\b\b\b\b\b\b\b\b\b\b\b\b\b\b\b\b\b\b\b\b\b\b\b\b37101568/45929032 bytes (80.8%)\b\b\b\b\b\b\b\b\b\b\b\b\b\b\b\b\b\b\b\b\b\b\b\b\b\b\b\b\b\b\b39706624/45929032 bytes (86.5%)\b\b\b\b\b\b\b\b\b\b\b\b\b\b\b\b\b\b\b\b\b\b\b\b\b\b\b\b\b\b\b41287680/45929032 bytes (89.9%)\b\b\b\b\b\b\b\b\b\b\b\b\b\b\b\b\b\b\b\b\b\b\b\b\b\b\b\b\b\b\b43712512/45929032 bytes (95.2%)\b\b\b\b\b\b\b\b\b\b\b\b\b\b\b\b\b\b\b\b\b\b\b\b\b\b\b\b\b\b\b45929032/45929032 bytes (100.0%)\n",
            "  Done\n",
            "File saved as /root/.imageio/ffmpeg/ffmpeg-linux64-v3.3.1.\n",
            "Mounted at /content/drive\n"
          ]
        }
      ],
      "source": [
        "from IPython.display import clear_output\n",
        "from ipywidgets import interact, IntSlider\n",
        "\n",
        "import os, os.path, shutil\n",
        "import zipfile\n",
        "import random\n",
        "import json\n",
        "import pickle\n",
        "from pathlib import Path\n",
        "\n",
        "import numpy as np\n",
        "import matplotlib.pyplot as plt\n",
        "import torch\n",
        "import pypianoroll\n",
        "import pretty_midi\n",
        "from pypianoroll import Multitrack, Track\n",
        "from tqdm import tqdm\n",
        "from livelossplot import PlotLosses\n",
        "from livelossplot.outputs import MatplotlibPlot\n",
        "\n",
        "\n",
        "\n",
        "import itertools\n",
        "import matplotlib.pyplot as plt\n",
        "import matplotlib.gridspec as gridspec\n",
        "import moviepy.editor as mpy\n",
        "import music21\n",
        "from IPython import display\n",
        "import seaborn as sns\n",
        "\n",
        "from google.colab import drive\n",
        "\n",
        "drive.mount('/content/drive', force_remount=True)"
      ]
    },
    {
      "cell_type": "code",
      "execution_count": 54,
      "metadata": {
        "id": "FyjHZll9HAZW"
      },
      "outputs": [],
      "source": [
        "# Data\n",
        "n_tracks = 5  # number of tracks\n",
        "n_pitches = 72  # number of pitches\n",
        "lowest_pitch = 24  # MIDI note number of the lowest pitch\n",
        "n_samples_per_song = 8  # number of samples to extract from each song in the datset\n",
        "n_measures = 4  # number of measures per sample\n",
        "beat_resolution = 4  # temporal resolution of a beat (in timestep)\n",
        "programs = [0, 0, 0, 0]  # program number for each track\n",
        "is_drums = [False, False, False, False]  # drum indicator for each track\n",
        "track_names = ['Soprano', 'Alto', 'Tenor', 'Bass']  # name of each track\n",
        "tempo = 100\n",
        "\n",
        "# Training\n",
        "batch_size = 16\n",
        "latent_dim = 128\n",
        "n_steps = 1000\n",
        "\n",
        "# Sampling\n",
        "sample_interval = 10  # interval to run the sampler (in step)\n",
        "n_samples = 4\n",
        "\n",
        "#Directories\n",
        "!mkdir -p midiDataset"
      ]
    },
    {
      "cell_type": "code",
      "execution_count": 29,
      "metadata": {
        "colab": {
          "base_uri": "https://localhost:8080/"
        },
        "id": "4mjA8tdRRHiL",
        "outputId": "0a5d7ab7-05ce-4c92-9bce-0551bbcf874d"
      },
      "outputs": [
        {
          "output_type": "stream",
          "name": "stdout",
          "text": [
            "Files in '/content': ['.config', 'midiDataset', 'midi-dataset', 'drive', 'sample_data']\n"
          ]
        }
      ],
      "source": [
        "cwd = os.getcwd()  # Get the current working directory (cwd)\n",
        "files = os.listdir(cwd)  # Get all the files in that directory\n",
        "print(\"Files in %r: %s\" % (cwd, files))"
      ]
    },
    {
      "cell_type": "code",
      "source": [
        "\"\"\"Midi dataset.\"\"\"\n",
        "\n",
        "from typing import Tuple\n",
        "from torch import Tensor\n",
        "\n",
        "import torch\n",
        "from torch import nn\n",
        "from torch.utils.data import Dataset\n",
        "\n",
        "import numpy as np\n",
        "from music21 import midi\n",
        "from music21 import converter\n",
        "from music21 import note, stream, duration, tempo\n",
        "\n",
        "\n",
        "class MidiDataset(Dataset):\n",
        "    \"\"\"MidiDataset.\n",
        "    Parameters\n",
        "    ----------\n",
        "    path: str\n",
        "        Path to dataset.\n",
        "    split: str, optional (default=\"train\")\n",
        "        Split of dataset.\n",
        "    n_bars: int, optional (default=2)\n",
        "        Number of bars.\n",
        "    n_steps_per_bar: int, optional (default=16)\n",
        "        Number of steps per bar.\n",
        "    \"\"\"\n",
        "\n",
        "    def __init__(\n",
        "        self,\n",
        "        path: str,\n",
        "        split: str = \"train\",\n",
        "        n_bars: int = 2,\n",
        "        n_steps_per_bar: int = 16,\n",
        "    ) -> None:\n",
        "        \"\"\"Initialize.\"\"\"\n",
        "        self.n_bars = n_bars\n",
        "        self.n_steps_per_bar = n_steps_per_bar\n",
        "        dataset = np.load(path, allow_pickle=True, encoding=\"bytes\")[split]\n",
        "        self.data_binary, self.data_ints, self.data = self.__preprocess__(dataset)\n",
        "\n",
        "    def __len__(self) -> int:\n",
        "        \"\"\"Return the number of samples in dataset.\"\"\"\n",
        "        return len(self.data_binary)\n",
        "\n",
        "    def __getitem__(self, index: int) -> Tensor:\n",
        "        \"\"\"Return one samples from dataset.\n",
        "        Parameters\n",
        "        ----------\n",
        "        index: int\n",
        "            Index of sample.\n",
        "        Returns\n",
        "        -------\n",
        "        Tensor:\n",
        "            Sample.\n",
        "        \"\"\"\n",
        "        return torch.from_numpy(self.data_binary[index]).float()\n",
        "\n",
        "    def __preprocess__(self, data: np.ndarray) -> Tuple[np.ndarray]:\n",
        "        \"\"\"Preprocess data.\n",
        "        Parameters\n",
        "        ----------\n",
        "        data: np.ndarray\n",
        "            Data.\n",
        "        Returns\n",
        "        -------\n",
        "        Tuple[np.ndarray]:\n",
        "            Data binary, data ints, preprocessed data.\n",
        "        \"\"\"\n",
        "        data_ints = []\n",
        "        for x in data:\n",
        "            skip = True\n",
        "            skip_rows = 0\n",
        "            while skip:\n",
        "                if not np.any(np.isnan(x[skip_rows: skip_rows + 4])):\n",
        "                    skip = False\n",
        "                else:\n",
        "                    skip_rows += 4\n",
        "            if self.n_bars * self.n_steps_per_bar < x.shape[0]:\n",
        "                data_ints.append(x[skip_rows: self.n_bars * self.n_steps_per_bar + skip_rows, :])\n",
        "        data_ints = np.array(data_ints)\n",
        "        self.n_songs = data_ints.shape[0]\n",
        "        self.n_tracks = data_ints.shape[2]\n",
        "        data_ints = data_ints.reshape([self.n_songs, self.n_bars, self.n_steps_per_bar, self.n_tracks])\n",
        "        max_note = 83\n",
        "        mask = np.isnan(data_ints)\n",
        "        data_ints[mask] = max_note + 1\n",
        "        max_note = max_note + 1\n",
        "        data_ints = data_ints.astype(int)\n",
        "        num_classes = max_note + 1\n",
        "        data_binary = np.eye(num_classes)[data_ints]\n",
        "        data_binary[data_binary == 0] = -1\n",
        "        data_binary = np.delete(data_binary, max_note, -1)\n",
        "        data_binary = data_binary.transpose([0, 3, 1, 2, 4])\n",
        "        return data_binary, data_ints, data\n",
        "\n",
        "\n",
        "def binarise_output(output: np.ndarray) -> np.ndarray:\n",
        "    \"\"\"Binarize output.\n",
        "    Parameters\n",
        "    ----------\n",
        "    output: np.ndarray\n",
        "        Output array.\n",
        "    \"\"\"\n",
        "    max_pitches = np.argmax(output, axis=-1)\n",
        "    return max_pitches\n",
        "\n",
        "\n",
        "def postprocess(\n",
        "    output: np.ndarray,\n",
        "    n_tracks: int = 4,\n",
        "    n_bars: int = 2,\n",
        "    n_steps_per_bar: int = 16,\n",
        ") -> stream.Score:\n",
        "    \"\"\"Postprocess output.\n",
        "    Parameters\n",
        "    ----------\n",
        "    output: np.ndarray\n",
        "        Output array.\n",
        "    n_tracks: int, (default=4)\n",
        "        Number of tracks.\n",
        "    n_bars: int, (default=2)\n",
        "        Number of bars.\n",
        "    n_steps_per_bar: int, (default=16)\n",
        "        Number of steps per bar.\n",
        "    \"\"\"\n",
        "    parts = stream.Score()\n",
        "    parts.append(tempo.MetronomeMark(number=66))\n",
        "    max_pitches = binarise_output(output)\n",
        "    midi_note_score = np.vstack([\n",
        "        max_pitches[i].reshape([n_bars * n_steps_per_bar, n_tracks]) for i in range(len(output))\n",
        "    ])\n",
        "    for i in range(n_tracks):\n",
        "        last_x = int(midi_note_score[:, i][0])\n",
        "        s = stream.Part()\n",
        "        dur = 0\n",
        "        for idx, x in enumerate(midi_note_score[:, i]):\n",
        "            x = int(x)\n",
        "            if (x != last_x or idx % 4 == 0) and idx > 0:\n",
        "                n = note.Note(last_x)\n",
        "                n.duration = duration.Duration(dur)\n",
        "                s.append(n)\n",
        "                dur = 0\n",
        "            last_x = x\n",
        "            dur = dur + 0.25\n",
        "        n = note.Note(last_x)\n",
        "        n.duration = duration.Duration(dur)\n",
        "        s.append(n)\n",
        "        parts.append(s)\n",
        "    return parts"
      ],
      "metadata": {
        "id": "OMWZsxaCN4GX"
      },
      "execution_count": 42,
      "outputs": []
    },
    {
      "cell_type": "code",
      "source": [
        "def save_pianoroll_as_midi(pianoroll,\n",
        "                  programs=programs,\n",
        "                  track_names=track_names,\n",
        "                  is_drums=is_drums,\n",
        "                  tempo=tempo,           # in bpm\n",
        "                  beat_resolution=beat_resolution,  # number of time steps\n",
        "                  destination_path=\"/content/midiDataset/\"\n",
        "                  ):\n",
        "    \n",
        "    #pianoroll = pianoroll > 0\n",
        "\n",
        "    # Reshape batched pianoroll array to a single pianoroll array\n",
        "    pianoroll_ = pianoroll.reshape((-1, pianoroll.shape[2], pianoroll.shape[3]))\n",
        "\n",
        "    measure_resolution = 4 * beat_resolution\n",
        "    tempo_array = np.full((4 * 4 * measure_resolution, 1), tempo)\n",
        "\n",
        "    # Create the tracks\n",
        "    tracks = []\n",
        "    for idx in range(pianoroll_.shape[2]):\n",
        "        tracks.append(pypianoroll.BinaryTrack(\n",
        "            track_names[idx], programs[idx], is_drums[idx], pianoroll_[..., idx]))\n",
        "\n",
        "    multitrack = pypianoroll.Multitrack(\n",
        "        tracks=tracks, tempo=tempo_array, resolution=beat_resolution)\n",
        "        \n",
        "    multitrack.write('./midiDataset/test.mid')\n",
        "    print('Midi saved to ', destination_path)\n",
        "    return destination_path"
      ],
      "metadata": {
        "id": "-FoXxGR3MtTj"
      },
      "execution_count": 58,
      "outputs": []
    },
    {
      "cell_type": "code",
      "source": [
        "from numpy.core.fromnumeric import shape\n",
        "d = np.load(\"/content/drive/MyDrive/Colab Notebooks/Honours code/Jsb16thSeparated.npz\", allow_pickle=True, encoding = 'latin1')\n",
        "\n",
        "path = (\"/content/drive/MyDrive/Colab Notebooks/Honours code/Jsb16thSeparated.npz\")\n",
        "\n",
        "dataset = MidiDataset(path=path)\n",
        "\n",
        "#print(dataset[0].shape)\n",
        "print(d.files)\n",
        "train = d['train']\n",
        "test = d['test']\n",
        "valid = d['valid']\n",
        "\n",
        "#print(valid[1])\n",
        "#print(dataset[1])\n",
        "save_pianoroll_as_midi(train)\n",
        "#print(track.shape)\n",
        "#print(track)\n",
        "\n",
        "#show_pianoroll(track)\n",
        "\n"
      ],
      "metadata": {
        "colab": {
          "base_uri": "https://localhost:8080/",
          "height": 374
        },
        "id": "oQa48lVCGBCE",
        "outputId": "c944376e-4d8e-4afd-81bb-9cd9d2a8a67c"
      },
      "execution_count": 57,
      "outputs": [
        {
          "output_type": "stream",
          "name": "stdout",
          "text": [
            "['test', 'train', 'valid']\n"
          ]
        },
        {
          "output_type": "error",
          "ename": "IndexError",
          "evalue": "ignored",
          "traceback": [
            "\u001b[0;31m---------------------------------------------------------------------------\u001b[0m",
            "\u001b[0;31mIndexError\u001b[0m                                Traceback (most recent call last)",
            "\u001b[0;32m<ipython-input-57-79bdbc38bd10>\u001b[0m in \u001b[0;36m<module>\u001b[0;34m()\u001b[0m\n\u001b[1;32m     14\u001b[0m \u001b[0;31m#print(valid[1])\u001b[0m\u001b[0;34m\u001b[0m\u001b[0;34m\u001b[0m\u001b[0;34m\u001b[0m\u001b[0m\n\u001b[1;32m     15\u001b[0m \u001b[0;31m#print(dataset[1])\u001b[0m\u001b[0;34m\u001b[0m\u001b[0;34m\u001b[0m\u001b[0;34m\u001b[0m\u001b[0m\n\u001b[0;32m---> 16\u001b[0;31m \u001b[0msave_pianoroll_as_midi\u001b[0m\u001b[0;34m(\u001b[0m\u001b[0mtrain\u001b[0m\u001b[0;34m)\u001b[0m\u001b[0;34m\u001b[0m\u001b[0;34m\u001b[0m\u001b[0m\n\u001b[0m\u001b[1;32m     17\u001b[0m \u001b[0;31m#print(track.shape)\u001b[0m\u001b[0;34m\u001b[0m\u001b[0;34m\u001b[0m\u001b[0;34m\u001b[0m\u001b[0m\n\u001b[1;32m     18\u001b[0m \u001b[0;31m#print(track)\u001b[0m\u001b[0;34m\u001b[0m\u001b[0;34m\u001b[0m\u001b[0;34m\u001b[0m\u001b[0m\n",
            "\u001b[0;32m<ipython-input-56-cdb1fe6e923f>\u001b[0m in \u001b[0;36msave_pianoroll_as_midi\u001b[0;34m(pianoroll, programs, track_names, is_drums, tempo, beat_resolution, destination_path)\u001b[0m\n\u001b[1;32m     11\u001b[0m \u001b[0;34m\u001b[0m\u001b[0m\n\u001b[1;32m     12\u001b[0m     \u001b[0;31m# Reshape batched pianoroll array to a single pianoroll array\u001b[0m\u001b[0;34m\u001b[0m\u001b[0;34m\u001b[0m\u001b[0;34m\u001b[0m\u001b[0m\n\u001b[0;32m---> 13\u001b[0;31m     \u001b[0mpianoroll_\u001b[0m \u001b[0;34m=\u001b[0m \u001b[0mpianoroll\u001b[0m\u001b[0;34m.\u001b[0m\u001b[0mreshape\u001b[0m\u001b[0;34m(\u001b[0m\u001b[0;34m(\u001b[0m\u001b[0;34m-\u001b[0m\u001b[0;36m1\u001b[0m\u001b[0;34m,\u001b[0m \u001b[0mpianoroll\u001b[0m\u001b[0;34m.\u001b[0m\u001b[0mshape\u001b[0m\u001b[0;34m[\u001b[0m\u001b[0;36m2\u001b[0m\u001b[0;34m]\u001b[0m\u001b[0;34m,\u001b[0m \u001b[0mpianoroll\u001b[0m\u001b[0;34m.\u001b[0m\u001b[0mshape\u001b[0m\u001b[0;34m[\u001b[0m\u001b[0;36m3\u001b[0m\u001b[0;34m]\u001b[0m\u001b[0;34m)\u001b[0m\u001b[0;34m)\u001b[0m\u001b[0;34m\u001b[0m\u001b[0;34m\u001b[0m\u001b[0m\n\u001b[0m\u001b[1;32m     14\u001b[0m \u001b[0;34m\u001b[0m\u001b[0m\n\u001b[1;32m     15\u001b[0m     \u001b[0mmeasure_resolution\u001b[0m \u001b[0;34m=\u001b[0m \u001b[0;36m4\u001b[0m \u001b[0;34m*\u001b[0m \u001b[0mbeat_resolution\u001b[0m\u001b[0;34m\u001b[0m\u001b[0;34m\u001b[0m\u001b[0m\n",
            "\u001b[0;31mIndexError\u001b[0m: tuple index out of range"
          ]
        }
      ]
    },
    {
      "cell_type": "code",
      "source": [
        "training_data = np.load('/content/drive/MyDrive/Colab Notebooks/Honours code/train-1.npy')\n",
        "print(training_data[1])\n",
        "\n",
        "save_pianoroll_as_midi(training_data)"
      ],
      "metadata": {
        "colab": {
          "base_uri": "https://localhost:8080/",
          "height": 903
        },
        "id": "GCIF9wP7W8tz",
        "outputId": "780092a5-b41d-449e-ac28-5f6d2198c40a"
      },
      "execution_count": 59,
      "outputs": [
        {
          "output_type": "stream",
          "name": "stdout",
          "text": [
            "[[[-1. -1. -1. -1.]\n",
            "  [-1. -1. -1. -1.]\n",
            "  [-1. -1. -1. -1.]\n",
            "  ...\n",
            "  [-1. -1. -1. -1.]\n",
            "  [-1. -1. -1. -1.]\n",
            "  [-1. -1. -1. -1.]]\n",
            "\n",
            " [[-1. -1. -1. -1.]\n",
            "  [-1. -1. -1. -1.]\n",
            "  [-1. -1. -1. -1.]\n",
            "  ...\n",
            "  [-1. -1. -1. -1.]\n",
            "  [-1. -1. -1. -1.]\n",
            "  [-1. -1. -1. -1.]]\n",
            "\n",
            " [[-1. -1. -1. -1.]\n",
            "  [-1. -1. -1. -1.]\n",
            "  [-1. -1. -1. -1.]\n",
            "  ...\n",
            "  [-1. -1. -1. -1.]\n",
            "  [-1. -1. -1. -1.]\n",
            "  [-1. -1. -1. -1.]]\n",
            "\n",
            " ...\n",
            "\n",
            " [[-1. -1. -1. -1.]\n",
            "  [-1. -1. -1. -1.]\n",
            "  [-1. -1. -1. -1.]\n",
            "  ...\n",
            "  [-1. -1. -1. -1.]\n",
            "  [-1. -1. -1. -1.]\n",
            "  [-1. -1. -1. -1.]]\n",
            "\n",
            " [[-1. -1. -1. -1.]\n",
            "  [-1. -1. -1. -1.]\n",
            "  [-1. -1. -1. -1.]\n",
            "  ...\n",
            "  [-1. -1. -1. -1.]\n",
            "  [-1. -1. -1. -1.]\n",
            "  [-1. -1. -1. -1.]]\n",
            "\n",
            " [[-1. -1. -1. -1.]\n",
            "  [-1. -1. -1. -1.]\n",
            "  [-1. -1. -1. -1.]\n",
            "  ...\n",
            "  [-1. -1. -1. -1.]\n",
            "  [-1. -1. -1. -1.]\n",
            "  [-1. -1. -1. -1.]]]\n",
            "Midi saved to  /content/midiDataset/\n"
          ]
        },
        {
          "output_type": "execute_result",
          "data": {
            "text/plain": [
              "'/content/midiDataset/'"
            ],
            "application/vnd.google.colaboratory.intrinsic+json": {
              "type": "string"
            }
          },
          "metadata": {},
          "execution_count": 59
        }
      ]
    },
    {
      "cell_type": "code",
      "source": [
        "#display pianoroll\n",
        "\n",
        "multitrack.plot()"
      ],
      "metadata": {
        "colab": {
          "base_uri": "https://localhost:8080/",
          "height": 201
        },
        "id": "bOPC6iFAp_SD",
        "outputId": "96870c35-5e66-4b80-9845-216c6f5b260a"
      },
      "execution_count": 48,
      "outputs": [
        {
          "output_type": "error",
          "ename": "NameError",
          "evalue": "ignored",
          "traceback": [
            "\u001b[0;31m---------------------------------------------------------------------------\u001b[0m",
            "\u001b[0;31mNameError\u001b[0m                                 Traceback (most recent call last)",
            "\u001b[0;32m<ipython-input-48-de93aa3c776c>\u001b[0m in \u001b[0;36m<module>\u001b[0;34m()\u001b[0m\n\u001b[1;32m      1\u001b[0m \u001b[0;31m#display pianoroll\u001b[0m\u001b[0;34m\u001b[0m\u001b[0;34m\u001b[0m\u001b[0;34m\u001b[0m\u001b[0m\n\u001b[1;32m      2\u001b[0m \u001b[0;34m\u001b[0m\u001b[0m\n\u001b[0;32m----> 3\u001b[0;31m \u001b[0mmultitrack\u001b[0m\u001b[0;34m.\u001b[0m\u001b[0mplot\u001b[0m\u001b[0;34m(\u001b[0m\u001b[0;34m)\u001b[0m\u001b[0;34m\u001b[0m\u001b[0;34m\u001b[0m\u001b[0m\n\u001b[0m",
            "\u001b[0;31mNameError\u001b[0m: name 'multitrack' is not defined"
          ]
        }
      ]
    },
    {
      "cell_type": "code",
      "source": [
        "\n",
        "\"\"\"\n",
        "\n",
        "length = multitrack.get_length()\n",
        "print(length)\n",
        "multitrack.trim(0, length)\n",
        "multitrack.binarize()\n",
        "\n",
        "multitrack.plot()\n",
        "\n",
        "\n",
        "print(d.files)\n",
        "\n",
        "for piece in d['valid']:\n",
        "  \n",
        "  valid.append(piece)\n",
        "\n",
        "#print(valid)\n",
        "\n",
        "for piece in d['train']:\n",
        "  \n",
        "  train.append(piece.shape)\n",
        "\n",
        "print(train)\n",
        "\n",
        "for piece in d['test']:\n",
        "  \n",
        "  test.append(piece.shape)\n",
        "\n",
        "#print(test)\n",
        "\n",
        "\n",
        "\n",
        "#print(piece.shape)\n",
        "\n",
        "test1 = d['train']\n",
        "print(test1.shape)\n",
        "\n",
        "!mkdir -p data\n",
        "\n",
        "src_file = Path(\"/content/drive/MyDrive/Colab Notebooks/Honours code/Jsb16thSeparated.npz\")\n",
        "dest_file = Path(\"/content/data/\")\n",
        "shutil.copy(src_file, dest_file)\n",
        "\n",
        "\n",
        "#test1alto = pypianoroll.Track(name='Alto', program=0, is_drum=False, pianoroll=np.ndarray(shape=(208, 128), dtype=bool))\n",
        "multitrack = pypianoroll.Multitrack(name='test1', resolution=24, tempo=np.ndarray(shape=(208,4),dtype=np.float16), tracks=[Track(name='Alto', program=0, is_drum=False, pianoroll=np.ndarray(shape=(228, 128), dtype=bool))])\n",
        "\n",
        "#print(test1alto)\n",
        "\n",
        "#test1alto.standardize()\n",
        "\n",
        "\n",
        "print(multitrack)\n",
        "\n",
        "multitrack.plot()\n",
        "\n",
        "#length = multitrack.get_length()\n",
        "#print(length)\n",
        "#multitrack.trim(0, length)\n",
        "#multitrack.standardize()\n",
        "\n",
        "#print(multitrack)\n",
        "#(resolution=24, tempo=array(shape=(288, 1), dtype=float64), tracks=[BinaryTrack(name='', program=0, is_drum=False, pianoroll=array(shape=(288, 128), dtype=bool))])\n",
        "\n",
        "\"\"\""
      ],
      "metadata": {
        "id": "0XDN-Wy56nDd"
      },
      "execution_count": null,
      "outputs": []
    },
    {
      "cell_type": "code",
      "execution_count": null,
      "metadata": {
        "colab": {
          "base_uri": "https://localhost:8080/"
        },
        "id": "GMpTmZYtwl2j",
        "outputId": "d4855b78-1a91-4f45-fdb5-03065c095d31"
      },
      "outputs": [
        {
          "output_type": "stream",
          "name": "stdout",
          "text": [
            "['.config', 'drive', 'JSB Chorales', 'sample_data']\n"
          ]
        }
      ],
      "source": [
        "dataset_zip = Path(\"/content/drive/MyDrive/Colab Notebooks/Honours code/JSB Chorales.zip\")\n",
        "#for item in os.listdir(\"/content/drive/MyDrive/Colab Notebooks/Honours code/\"): # loop through items in dir\n",
        "    #if item.endswith(\".zip\"): # check for \".zip\" extension\n",
        "file_name = dataset_zip #os.path.abspath(item) # get full path of files\n",
        "zip_ref = zipfile.ZipFile(file_name) # create zipfile object\n",
        "zip_ref.extractall() # extract file to dir\n",
        "zip_ref.close() # close file\n",
        "#os.remove(file_name) # delete zipped file\n",
        "\n",
        "print(os.listdir())"
      ]
    }
  ],
  "metadata": {
    "accelerator": "TPU",
    "colab": {
      "collapsed_sections": [],
      "name": "ReharmonisationGAN.ipynb",
      "provenance": [],
      "authorship_tag": "ABX9TyNqYOhtx+ntTSt7b0wG3MSE",
      "include_colab_link": true
    },
    "kernelspec": {
      "display_name": "Python 3",
      "name": "python3"
    },
    "language_info": {
      "name": "python"
    }
  },
  "nbformat": 4,
  "nbformat_minor": 0
}