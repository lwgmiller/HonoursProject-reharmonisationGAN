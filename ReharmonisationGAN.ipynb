{
  "cells": [
    {
      "cell_type": "markdown",
      "metadata": {
        "id": "view-in-github",
        "colab_type": "text"
      },
      "source": [
        "<a href=\"https://colab.research.google.com/github/lwgmiller/HonoursProject-reharmonisationGAN/blob/main/ReharmonisationGAN.ipynb\" target=\"_parent\"><img src=\"https://colab.research.google.com/assets/colab-badge.svg\" alt=\"Open In Colab\"/></a>"
      ]
    },
    {
      "cell_type": "code",
      "execution_count": null,
      "metadata": {
        "id": "JQ6n7tfiGpbP"
      },
      "outputs": [],
      "source": [
        "%tensorflow_version 2.x\n",
        "import tensorflow as tf\n",
        "print(\"Tensorflow version \" + tf.__version__)\n",
        "\n",
        "try:\n",
        "  tpu = tf.distribute.cluster_resolver.TPUClusterResolver()  # TPU detection\n",
        "  print('Running on TPU ', tpu.cluster_spec().as_dict()['worker'])\n",
        "except ValueError:\n",
        "  raise BaseException('ERROR: Not connected to a TPU runtime; please see the previous cell in this notebook for instructions!')\n",
        "\n",
        "tf.config.experimental_connect_to_cluster(tpu)\n",
        "tf.tpu.experimental.initialize_tpu_system(tpu)\n",
        "tpu_strategy = tf.distribute.experimental.TPUStrategy(tpu)"
      ]
    },
    {
      "cell_type": "code",
      "source": [
        "!apt-get install python3.5\n",
        "\n",
        "print(python_version())"
      ],
      "metadata": {
        "id": "NDELk2QPwvoi"
      },
      "execution_count": null,
      "outputs": []
    },
    {
      "cell_type": "code",
      "execution_count": 1,
      "metadata": {
        "id": "ac-5GJasG6Si",
        "colab": {
          "base_uri": "https://localhost:8080/"
        },
        "outputId": "3d93f63c-39b1-4920-95e9-c0f5da1d5275"
      },
      "outputs": [
        {
          "output_type": "stream",
          "name": "stdout",
          "text": [
            "Requirement already satisfied: torch in /usr/local/lib/python3.7/dist-packages (1.10.0+cu111)\n",
            "Requirement already satisfied: matplotlib in /usr/local/lib/python3.7/dist-packages (3.2.2)\n",
            "Requirement already satisfied: tqdm in /usr/local/lib/python3.7/dist-packages (4.64.0)\n",
            "Requirement already satisfied: livelossplot in /usr/local/lib/python3.7/dist-packages (0.5.5)\n",
            "Requirement already satisfied: gdown in /usr/local/lib/python3.7/dist-packages (4.4.0)\n",
            "Requirement already satisfied: pypianoroll>=1.0.2 in /usr/local/lib/python3.7/dist-packages (1.0.4)\n",
            "Requirement already satisfied: numpy>=1.12.0 in /usr/local/lib/python3.7/dist-packages (from pypianoroll>=1.0.2) (1.21.5)\n",
            "Requirement already satisfied: scipy>=1.0.0 in /usr/local/lib/python3.7/dist-packages (from pypianoroll>=1.0.2) (1.4.1)\n",
            "Requirement already satisfied: pretty-midi>=0.2.8 in /usr/local/lib/python3.7/dist-packages (from pypianoroll>=1.0.2) (0.2.9)\n",
            "Requirement already satisfied: cycler>=0.10 in /usr/local/lib/python3.7/dist-packages (from matplotlib) (0.11.0)\n",
            "Requirement already satisfied: python-dateutil>=2.1 in /usr/local/lib/python3.7/dist-packages (from matplotlib) (2.8.2)\n",
            "Requirement already satisfied: pyparsing!=2.0.4,!=2.1.2,!=2.1.6,>=2.0.1 in /usr/local/lib/python3.7/dist-packages (from matplotlib) (3.0.8)\n",
            "Requirement already satisfied: kiwisolver>=1.0.1 in /usr/local/lib/python3.7/dist-packages (from matplotlib) (1.4.2)\n",
            "Requirement already satisfied: typing-extensions in /usr/local/lib/python3.7/dist-packages (from kiwisolver>=1.0.1->matplotlib) (4.1.1)\n",
            "Requirement already satisfied: mido>=1.1.16 in /usr/local/lib/python3.7/dist-packages (from pretty-midi>=0.2.8->pypianoroll>=1.0.2) (1.2.10)\n",
            "Requirement already satisfied: six in /usr/local/lib/python3.7/dist-packages (from pretty-midi>=0.2.8->pypianoroll>=1.0.2) (1.15.0)\n",
            "Requirement already satisfied: bokeh in /usr/local/lib/python3.7/dist-packages (from livelossplot) (2.3.3)\n",
            "Requirement already satisfied: ipython==7.* in /usr/local/lib/python3.7/dist-packages (from livelossplot) (7.32.0)\n",
            "Requirement already satisfied: pickleshare in /usr/local/lib/python3.7/dist-packages (from ipython==7.*->livelossplot) (0.7.5)\n",
            "Requirement already satisfied: prompt-toolkit!=3.0.0,!=3.0.1,<3.1.0,>=2.0.0 in /usr/local/lib/python3.7/dist-packages (from ipython==7.*->livelossplot) (3.0.29)\n",
            "Requirement already satisfied: decorator in /usr/local/lib/python3.7/dist-packages (from ipython==7.*->livelossplot) (4.4.2)\n",
            "Requirement already satisfied: jedi>=0.16 in /usr/local/lib/python3.7/dist-packages (from ipython==7.*->livelossplot) (0.18.1)\n",
            "Requirement already satisfied: backcall in /usr/local/lib/python3.7/dist-packages (from ipython==7.*->livelossplot) (0.2.0)\n",
            "Requirement already satisfied: matplotlib-inline in /usr/local/lib/python3.7/dist-packages (from ipython==7.*->livelossplot) (0.1.3)\n",
            "Requirement already satisfied: pexpect>4.3 in /usr/local/lib/python3.7/dist-packages (from ipython==7.*->livelossplot) (4.8.0)\n",
            "Requirement already satisfied: setuptools>=18.5 in /usr/local/lib/python3.7/dist-packages (from ipython==7.*->livelossplot) (57.4.0)\n",
            "Requirement already satisfied: traitlets>=4.2 in /usr/local/lib/python3.7/dist-packages (from ipython==7.*->livelossplot) (5.1.1)\n",
            "Requirement already satisfied: pygments in /usr/local/lib/python3.7/dist-packages (from ipython==7.*->livelossplot) (2.6.1)\n",
            "Requirement already satisfied: parso<0.9.0,>=0.8.0 in /usr/local/lib/python3.7/dist-packages (from jedi>=0.16->ipython==7.*->livelossplot) (0.8.3)\n",
            "Requirement already satisfied: ptyprocess>=0.5 in /usr/local/lib/python3.7/dist-packages (from pexpect>4.3->ipython==7.*->livelossplot) (0.7.0)\n",
            "Requirement already satisfied: wcwidth in /usr/local/lib/python3.7/dist-packages (from prompt-toolkit!=3.0.0,!=3.0.1,<3.1.0,>=2.0.0->ipython==7.*->livelossplot) (0.2.5)\n",
            "Requirement already satisfied: requests[socks] in /usr/local/lib/python3.7/dist-packages (from gdown) (2.23.0)\n",
            "Requirement already satisfied: filelock in /usr/local/lib/python3.7/dist-packages (from gdown) (3.6.0)\n",
            "Requirement already satisfied: beautifulsoup4 in /usr/local/lib/python3.7/dist-packages (from gdown) (4.6.3)\n",
            "Requirement already satisfied: pillow>=7.1.0 in /usr/local/lib/python3.7/dist-packages (from bokeh->livelossplot) (7.1.2)\n",
            "Requirement already satisfied: packaging>=16.8 in /usr/local/lib/python3.7/dist-packages (from bokeh->livelossplot) (21.3)\n",
            "Requirement already satisfied: PyYAML>=3.10 in /usr/local/lib/python3.7/dist-packages (from bokeh->livelossplot) (3.13)\n",
            "Requirement already satisfied: Jinja2>=2.9 in /usr/local/lib/python3.7/dist-packages (from bokeh->livelossplot) (2.11.3)\n",
            "Requirement already satisfied: tornado>=5.1 in /usr/local/lib/python3.7/dist-packages (from bokeh->livelossplot) (5.1.1)\n",
            "Requirement already satisfied: MarkupSafe>=0.23 in /usr/local/lib/python3.7/dist-packages (from Jinja2>=2.9->bokeh->livelossplot) (2.0.1)\n",
            "Requirement already satisfied: urllib3!=1.25.0,!=1.25.1,<1.26,>=1.21.1 in /usr/local/lib/python3.7/dist-packages (from requests[socks]->gdown) (1.24.3)\n",
            "Requirement already satisfied: certifi>=2017.4.17 in /usr/local/lib/python3.7/dist-packages (from requests[socks]->gdown) (2021.10.8)\n",
            "Requirement already satisfied: idna<3,>=2.5 in /usr/local/lib/python3.7/dist-packages (from requests[socks]->gdown) (2.10)\n",
            "Requirement already satisfied: chardet<4,>=3.0.2 in /usr/local/lib/python3.7/dist-packages (from requests[socks]->gdown) (3.0.4)\n",
            "Requirement already satisfied: PySocks!=1.5.7,>=1.5.6 in /usr/local/lib/python3.7/dist-packages (from requests[socks]->gdown) (1.7.1)\n"
          ]
        }
      ],
      "source": [
        "\n",
        "!pip3 install torch matplotlib tqdm livelossplot gdown \"pypianoroll>=1.0.2\"\n",
        "\n",
        "#!pip3 install py_midi\n",
        "#import midi"
      ]
    },
    {
      "cell_type": "code",
      "execution_count": 2,
      "metadata": {
        "colab": {
          "base_uri": "https://localhost:8080/"
        },
        "id": "35eGPXSOG52J",
        "outputId": "7d809cd4-2a0f-42ac-fb20-c5532fc1cc03"
      },
      "outputs": [
        {
          "output_type": "stream",
          "name": "stdout",
          "text": [
            "Imageio: 'ffmpeg-linux64-v3.3.1' was not found on your computer; downloading it now.\n",
            "Try 1. Download from https://github.com/imageio/imageio-binaries/raw/master/ffmpeg/ffmpeg-linux64-v3.3.1 (43.8 MB)\n",
            "Downloading: 8192/45929032 bytes (0.0%)\b\b\b\b\b\b\b\b\b\b\b\b\b\b\b\b\b\b\b\b\b\b\b\b\b\b1687552/45929032 bytes (3.7%)\b\b\b\b\b\b\b\b\b\b\b\b\b\b\b\b\b\b\b\b\b\b\b\b\b\b\b\b\b4186112/45929032 bytes (9.1%)\b\b\b\b\b\b\b\b\b\b\b\b\b\b\b\b\b\b\b\b\b\b\b\b\b\b\b\b\b7331840/45929032 bytes (16.0%)\b\b\b\b\b\b\b\b\b\b\b\b\b\b\b\b\b\b\b\b\b\b\b\b\b\b\b\b\b\b10166272/45929032 bytes (22.1%)\b\b\b\b\b\b\b\b\b\b\b\b\b\b\b\b\b\b\b\b\b\b\b\b\b\b\b\b\b\b\b12623872/45929032 bytes (27.5%)\b\b\b\b\b\b\b\b\b\b\b\b\b\b\b\b\b\b\b\b\b\b\b\b\b\b\b\b\b\b\b13959168/45929032 bytes (30.4%)\b\b\b\b\b\b\b\b\b\b\b\b\b\b\b\b\b\b\b\b\b\b\b\b\b\b\b\b\b\b\b15482880/45929032 bytes (33.7%)\b\b\b\b\b\b\b\b\b\b\b\b\b\b\b\b\b\b\b\b\b\b\b\b\b\b\b\b\b\b\b17694720/45929032 bytes (38.5%)\b\b\b\b\b\b\b\b\b\b\b\b\b\b\b\b\b\b\b\b\b\b\b\b\b\b\b\b\b\b\b19996672/45929032 bytes (43.5%)\b\b\b\b\b\b\b\b\b\b\b\b\b\b\b\b\b\b\b\b\b\b\b\b\b\b\b\b\b\b\b22151168/45929032 bytes (48.2%)\b\b\b\b\b\b\b\b\b\b\b\b\b\b\b\b\b\b\b\b\b\b\b\b\b\b\b\b\b\b\b24330240/45929032 bytes (53.0%)\b\b\b\b\b\b\b\b\b\b\b\b\b\b\b\b\b\b\b\b\b\b\b\b\b\b\b\b\b\b\b26509312/45929032 bytes (57.7%)\b\b\b\b\b\b\b\b\b\b\b\b\b\b\b\b\b\b\b\b\b\b\b\b\b\b\b\b\b\b\b28688384/45929032 bytes (62.5%)\b\b\b\b\b\b\b\b\b\b\b\b\b\b\b\b\b\b\b\b\b\b\b\b\b\b\b\b\b\b\b31195136/45929032 bytes (67.9%)\b\b\b\b\b\b\b\b\b\b\b\b\b\b\b\b\b\b\b\b\b\b\b\b\b\b\b\b\b\b\b33841152/45929032 bytes (73.7%)\b\b\b\b\b\b\b\b\b\b\b\b\b\b\b\b\b\b\b\b\b\b\b\b\b\b\b\b\b\b\b36773888/45929032 bytes (80.1%)\b\b\b\b\b\b\b\b\b\b\b\b\b\b\b\b\b\b\b\b\b\b\b\b\b\b\b\b\b\b\b39870464/45929032 bytes (86.8%)\b\b\b\b\b\b\b\b\b\b\b\b\b\b\b\b\b\b\b\b\b\b\b\b\b\b\b\b\b\b\b42016768/45929032 bytes (91.5%)\b\b\b\b\b\b\b\b\b\b\b\b\b\b\b\b\b\b\b\b\b\b\b\b\b\b\b\b\b\b\b44826624/45929032 bytes (97.6%)\b\b\b\b\b\b\b\b\b\b\b\b\b\b\b\b\b\b\b\b\b\b\b\b\b\b\b\b\b\b\b45929032/45929032 bytes (100.0%)\n",
            "  Done\n",
            "File saved as /root/.imageio/ffmpeg/ffmpeg-linux64-v3.3.1.\n",
            "Mounted at /content/drive\n"
          ]
        }
      ],
      "source": [
        "from IPython.display import clear_output\n",
        "from ipywidgets import interact, IntSlider\n",
        "\n",
        "import os, os.path, shutil\n",
        "import zipfile\n",
        "import random\n",
        "import json\n",
        "import pickle\n",
        "from pathlib import Path\n",
        "\n",
        "import numpy as np\n",
        "import matplotlib.pyplot as plt\n",
        "import torch\n",
        "import pypianoroll\n",
        "import pretty_midi\n",
        "from pypianoroll import Multitrack, Track\n",
        "from tqdm import tqdm\n",
        "from livelossplot import PlotLosses\n",
        "from livelossplot.outputs import MatplotlibPlot\n",
        "\n",
        "\n",
        "\n",
        "import itertools\n",
        "import matplotlib.pyplot as plt\n",
        "import matplotlib.gridspec as gridspec\n",
        "import moviepy.editor as mpy\n",
        "import music21\n",
        "from IPython import display\n",
        "import seaborn as sns\n",
        "\n",
        "from google.colab import drive\n",
        "\n",
        "drive.mount('/content/drive', force_remount=True)"
      ]
    },
    {
      "cell_type": "code",
      "execution_count": 3,
      "metadata": {
        "id": "FyjHZll9HAZW"
      },
      "outputs": [],
      "source": [
        "# Data\n",
        "n_tracks = 5  # number of tracks\n",
        "n_pitches = 72  # number of pitches\n",
        "lowest_pitch = 24  # MIDI note number of the lowest pitch\n",
        "n_samples_per_song = 8  # number of samples to extract from each song in the datset\n",
        "n_measures = 4  # number of measures per sample\n",
        "beat_resolution = 4  # temporal resolution of a beat (in timestep)\n",
        "programs = [0, 0, 25, 33, 48]  # program number for each track\n",
        "is_drums = [True, False, False, False, False]  # drum indicator for each track\n",
        "track_names = ['Drums', 'Piano', 'Guitar', 'Bass', 'Strings']  # name of each track\n",
        "tempo = 100\n",
        "\n",
        "# Training\n",
        "batch_size = 16\n",
        "latent_dim = 128\n",
        "n_steps = 1000\n",
        "\n",
        "# Sampling\n",
        "sample_interval = 10  # interval to run the sampler (in step)\n",
        "n_samples = 4"
      ]
    },
    {
      "cell_type": "code",
      "execution_count": 4,
      "metadata": {
        "colab": {
          "base_uri": "https://localhost:8080/"
        },
        "id": "4mjA8tdRRHiL",
        "outputId": "77102dad-d3c0-42fd-b4ae-72e14f861508"
      },
      "outputs": [
        {
          "output_type": "stream",
          "name": "stdout",
          "text": [
            "Files in '/content': ['.config', 'drive', 'sample_data']\n"
          ]
        }
      ],
      "source": [
        "cwd = os.getcwd()  # Get the current working directory (cwd)\n",
        "files = os.listdir(cwd)  # Get all the files in that directory\n",
        "print(\"Files in %r: %s\" % (cwd, files))"
      ]
    },
    {
      "cell_type": "code",
      "source": [
        "def show_pianoroll(xs, min_pitch=45, max_pitch=85,\n",
        "                   programs = [0, 0, 0, 0], save_dir=None):\n",
        "    \"\"\" Plot a MultiTrack PianoRoll\n",
        "    :param x: Multi Instrument PianoRoll Tensor\n",
        "    :param min_pitch: Min Pitch / Min Y across all instruments.\n",
        "    :param max_pitch: Max Pitch / Max Y across all instruments.\n",
        "    :param programs: Program Number of the Tracks.\n",
        "    :param file_name: Optional. File Name to save the plot.\n",
        "    :return:\n",
        "    \"\"\"\n",
        "\n",
        "    # Convert fake_x to numpy and convert -1 to 0\n",
        "    #xs = xs > 0\n",
        "\n",
        "    channel_last = lambda x: np.moveaxis(np.array(x), 2, 0)\n",
        "    xs = [channel_last(x) for x in xs]\n",
        "\n",
        "    assert len(xs[0].shape) == 3, 'Pianoroll shape must have 3 dims, Got %d' % len(xs[0].shape)\n",
        "    n_tracks, time_step, _ = xs[0].shape\n",
        "\n",
        "    plt.ion()\n",
        "    fig = plt.figure(figsize=(15, 4))\n",
        "    \n",
        "    x = xs[0]\n",
        "    \n",
        "    for j in range(4):\n",
        "        b = j+1\n",
        "        ax = fig.add_subplot(1,4,b)\n",
        "        nz = np.nonzero(x[b-1])\n",
        "\n",
        "        if programs:\n",
        "            ax.set_xlabel('Time('+pretty_midi.program_to_instrument_class(programs[j%4])+')')\n",
        "\n",
        "        if (j+1)== 1:\n",
        "            ax.set_ylabel('Pitch')\n",
        "        else:\n",
        "            ax.set_yticks([])\n",
        "\n",
        "        ax.scatter(nz[0], nz[1], s=np.pi * 3, color='bgrcmk'[b-1])\n",
        "        ax.set_ylim(45, 85)\n",
        "        ax.set_xlim(0, time_step)\n",
        "        fig.add_subplot(ax)"
      ],
      "metadata": {
        "id": "iPXa0BgIW6AB"
      },
      "execution_count": null,
      "outputs": []
    },
    {
      "cell_type": "code",
      "source": [
        "from numpy.core.fromnumeric import shape\n",
        "d = np.load(\"/content/drive/MyDrive/Colab Notebooks/Honours code/Jsb16thSeparated.npz\", allow_pickle=True, encoding = 'latin1')\n",
        "\n",
        "print(d.files)\n",
        "train = d['train']\n",
        "test = d['test']\n",
        "valid = d['valid']\n",
        "\n",
        "#print(valid[1])\n",
        "track = test[0]\n",
        "\n",
        "print(track.shape)\n",
        "print(track)\n",
        "\n",
        "#multitrack = pypianoroll.Multitrack(name='test1', resolution=24, tempo=np.ndarray(shape=(208,),dtype=np.float16), tracks=[Track(name='Soprano', program=0, is_drum=False, pianoroll=np.ndarray(shape=(208, 128), dtype=bool)), Track(name='Alto', program=0, is_drum=False, pianoroll=np.ndarray(shape=(208, 128), dtype=np.uint8)), Track(name='Tenor', program=0, is_drum=False, pianoroll=np.ndarray(shape=(208, 128), dtype=np.uint8)), Track(name='Bass', program=0, is_drum=False, pianoroll=np.ndarray(shape=(208, 128), dtype=bool))])\n",
        "\n",
        "#print(multitrack)\n",
        "\n",
        "#multitrack.plot()\n",
        "#track = tf.convert_to_tensor(track)\n",
        "\n",
        "#show_pianoroll(track)\n",
        "\n"
      ],
      "metadata": {
        "colab": {
          "base_uri": "https://localhost:8080/"
        },
        "id": "oQa48lVCGBCE",
        "outputId": "2f319d98-8df1-4581-f4e4-04decda1e9b1"
      },
      "execution_count": 5,
      "outputs": [
        {
          "output_type": "stream",
          "name": "stdout",
          "text": [
            "['test', 'train', 'valid']\n",
            "(228, 4)\n",
            "[[65. 60. 57. 53.]\n",
            " [65. 60. 57. 53.]\n",
            " [65. 60. 57. 53.]\n",
            " [65. 60. 57. 53.]\n",
            " [72. 60. 55. 52.]\n",
            " [72. 60. 55. 52.]\n",
            " [70. 60. 55. 52.]\n",
            " [70. 60. 55. 52.]\n",
            " [69. 60. 53. 53.]\n",
            " [69. 60. 53. 53.]\n",
            " [67. 60. 55. 52.]\n",
            " [67. 60. 55. 52.]\n",
            " [65. 62. 57. 50.]\n",
            " [65. 62. 57. 50.]\n",
            " [65. 64. 58. 50.]\n",
            " [65. 64. 58. 50.]\n",
            " [72. 65. 60. 45.]\n",
            " [72. 65. 60. 45.]\n",
            " [72. 65. 60. 45.]\n",
            " [72. 65. 60. 45.]\n",
            " [74. 65. 60. 46.]\n",
            " [74. 65. 60. 46.]\n",
            " [74. 65. 58. 48.]\n",
            " [74. 65. 57. 48.]\n",
            " [74. 65. 58. 50.]\n",
            " [74. 65. 58. 50.]\n",
            " [74. 65. 58. 52.]\n",
            " [74. 65. 58. 52.]\n",
            " [72. 65. 57. 53.]\n",
            " [72. 65. 57. 53.]\n",
            " [72. 65. 57. 53.]\n",
            " [72. 65. 57. 53.]\n",
            " [72. 67. 60. 52.]\n",
            " [72. 67. 60. 52.]\n",
            " [72. 67. 60. 52.]\n",
            " [72. 67. 60. 52.]\n",
            " [74. 69. 60. 53.]\n",
            " [74. 69. 60. 53.]\n",
            " [74. 69. 60. 53.]\n",
            " [74. 69. 60. 53.]\n",
            " [76. 67. 59. 55.]\n",
            " [76. 67. 59. 55.]\n",
            " [76. 67. 59. 55.]\n",
            " [76. 67. 59. 55.]\n",
            " [77. 65. 60. 57.]\n",
            " [77. 65. 60. 57.]\n",
            " [77. 67. 62. 58.]\n",
            " [77. 67. 62. 58.]\n",
            " [76. 67. 64. 60.]\n",
            " [76. 67. 64. 60.]\n",
            " [76. 67. 55. 52.]\n",
            " [76. 67. 55. 52.]\n",
            " [74. 65. 57. 53.]\n",
            " [74. 65. 57. 53.]\n",
            " [74. 65. 62. 50.]\n",
            " [74. 65. 62. 50.]\n",
            " [74. 65. 59. 55.]\n",
            " [74. 65. 59. 55.]\n",
            " [74. 65. 59. 55.]\n",
            " [74. 65. 59. 55.]\n",
            " [72. 64. 60. 48.]\n",
            " [72. 64. 60. 48.]\n",
            " [72. 64. 60. 48.]\n",
            " [72. 64. 60. 48.]\n",
            " [69. 65. 60. 53.]\n",
            " [69. 65. 60. 53.]\n",
            " [69. 65. 60. 53.]\n",
            " [69. 65. 60. 53.]\n",
            " [74. 65. 58. 46.]\n",
            " [74. 65. 58. 46.]\n",
            " [74. 65. 57. 46.]\n",
            " [74. 65. 57. 46.]\n",
            " [72. 64. 55. 48.]\n",
            " [72. 64. 55. 48.]\n",
            " [72. 64. 55. 48.]\n",
            " [72. 64. 55. 48.]\n",
            " [70. 65. 62. 50.]\n",
            " [70. 65. 62. 50.]\n",
            " [70. 67. 60. 52.]\n",
            " [70. 67. 60. 52.]\n",
            " [69. 65. 60. 53.]\n",
            " [69. 65. 60. 53.]\n",
            " [69. 65. 60. 46.]\n",
            " [69. 65. 60. 46.]\n",
            " [67. 65. 60. 48.]\n",
            " [67. 65. 60. 48.]\n",
            " [67. 65. 60. 48.]\n",
            " [67. 65. 60. 48.]\n",
            " [67. 64. 60. 48.]\n",
            " [67. 64. 60. 48.]\n",
            " [67. 64. 60. 48.]\n",
            " [67. 64. 60. 48.]\n",
            " [65. 65. 60. 41.]\n",
            " [65. 65. 60. 41.]\n",
            " [65. 65. 60. 41.]\n",
            " [65. 65. 60. 41.]\n",
            " [65. 65. 60. 41.]\n",
            " [65. 65. 60. 41.]\n",
            " [65. 65. 60. 41.]\n",
            " [65. 65. 60. 41.]\n",
            " [72. 67. 60. 52.]\n",
            " [72. 67. 60. 52.]\n",
            " [72. 67. 60. 52.]\n",
            " [72. 67. 60. 52.]\n",
            " [72. 67. 60. 52.]\n",
            " [72. 67. 60. 52.]\n",
            " [72. 67. 60. 52.]\n",
            " [72. 67. 60. 52.]\n",
            " [69. 69. 60. 53.]\n",
            " [69. 69. 60. 53.]\n",
            " [69. 69. 60. 53.]\n",
            " [69. 69. 60. 53.]\n",
            " [69. 69. 60. 53.]\n",
            " [69. 69. 60. 53.]\n",
            " [69. 69. 60. 53.]\n",
            " [69. 69. 60. 53.]\n",
            " [72. 67. 60. 48.]\n",
            " [72. 67. 60. 48.]\n",
            " [72. 67. 60. 48.]\n",
            " [72. 67. 60. 48.]\n",
            " [72. 67. 60. 48.]\n",
            " [72. 67. 60. 48.]\n",
            " [72. 67. 60. 48.]\n",
            " [72. 67. 60. 48.]\n",
            " [69. 65. 60. 41.]\n",
            " [69. 65. 60. 41.]\n",
            " [69. 65. 60. 41.]\n",
            " [69. 65. 60. 41.]\n",
            " [69. 65. 60. 41.]\n",
            " [69. 65. 60. 41.]\n",
            " [69. 65. 60. 41.]\n",
            " [69. 65. 60. 41.]\n",
            " [69. 65. 60. 41.]\n",
            " [69. 65. 60. 41.]\n",
            " [69. 65. 60. 43.]\n",
            " [69. 65. 60. 43.]\n",
            " [69. 65. 60. 45.]\n",
            " [69. 65. 60. 45.]\n",
            " [69. 65. 60. 46.]\n",
            " [69. 65. 60. 46.]\n",
            " [67. 64. 60. 48.]\n",
            " [67. 64. 60. 48.]\n",
            " [67. 62. 60. 50.]\n",
            " [67. 62. 60. 50.]\n",
            " [67. 60. 60. 52.]\n",
            " [67. 60. 60. 52.]\n",
            " [67. 60. 58. 48.]\n",
            " [67. 60. 58. 48.]\n",
            " [69. 60. 57. 53.]\n",
            " [69. 60. 57. 53.]\n",
            " [69. 60. 58. 55.]\n",
            " [69. 60. 58. 55.]\n",
            " [69. 60. 60. 57.]\n",
            " [69. 60. 60. 57.]\n",
            " [69. 62. 60. 58.]\n",
            " [69. 62. 60. 58.]\n",
            " [67. 64. 60. 60.]\n",
            " [67. 64. 60. 60.]\n",
            " [67. 64. 60. 58.]\n",
            " [67. 64. 60. 58.]\n",
            " [67. 64. 60. 57.]\n",
            " [67. 64. 60. 57.]\n",
            " [67. 64. 60. 55.]\n",
            " [67. 64. 60. 55.]\n",
            " [69. 65. 60. 53.]\n",
            " [69. 65. 60. 53.]\n",
            " [69. 65. 60. 52.]\n",
            " [69. 65. 60. 52.]\n",
            " [69. 65. 62. 50.]\n",
            " [69. 65. 62. 50.]\n",
            " [69. 65. 62. 48.]\n",
            " [69. 65. 62. 48.]\n",
            " [67. 65. 62. 46.]\n",
            " [67. 65. 62. 46.]\n",
            " [67. 65. 62. 43.]\n",
            " [67. 65. 62. 43.]\n",
            " [67. 64. 60. 48.]\n",
            " [67. 64. 60. 48.]\n",
            " [67. 64. 58. 48.]\n",
            " [67. 64. 58. 48.]\n",
            " [65. 65. 57. 41.]\n",
            " [65. 65. 57. 41.]\n",
            " [65. 65. 57. 41.]\n",
            " [65. 65. 57. 41.]\n",
            " [65. 65. 57. 41.]\n",
            " [65. 65. 57. 41.]\n",
            " [65. 65. 57. 41.]\n",
            " [65. 65. 57. 41.]\n",
            " [77. 69. 62. 38.]\n",
            " [77. 69. 62. 38.]\n",
            " [77. 69. 60. 41.]\n",
            " [77. 69. 60. 41.]\n",
            " [76. 67. 58. 43.]\n",
            " [76. 67. 58. 43.]\n",
            " [76. 67. 58. 45.]\n",
            " [76. 67. 58. 45.]\n",
            " [74. 65. 58. 46.]\n",
            " [74. 65. 58. 46.]\n",
            " [74. 65. 57. 46.]\n",
            " [74. 65. 57. 46.]\n",
            " [72. 64. 55. 48.]\n",
            " [72. 64. 55. 48.]\n",
            " [72. 64. 55. 48.]\n",
            " [72. 64. 55. 48.]\n",
            " [70. 62. 53. 50.]\n",
            " [70. 62. 53. 50.]\n",
            " [70. 62. 55. 52.]\n",
            " [70. 62. 55. 52.]\n",
            " [69. 60. 57. 53.]\n",
            " [69. 60. 57. 53.]\n",
            " [69. 60. 60. 45.]\n",
            " [69. 60. 60. 45.]\n",
            " [67. 62. 58. 46.]\n",
            " [67. 62. 58. 46.]\n",
            " [67. 62. 58. 43.]\n",
            " [67. 62. 57. 43.]\n",
            " [67. 60. 55. 48.]\n",
            " [67. 60. 55. 48.]\n",
            " [67. 60. 55. 48.]\n",
            " [67. 60. 55. 48.]\n",
            " [65. 60. 57. 41.]\n",
            " [65. 60. 57. 41.]\n",
            " [65. 60. 57. 41.]\n",
            " [65. 60. 57. 41.]\n",
            " [65. 60. 57. 41.]\n",
            " [65. 60. 57. 41.]\n",
            " [65. 60. 57. 41.]\n",
            " [65. 60. 57. 41.]]\n"
          ]
        }
      ]
    },
    {
      "cell_type": "code",
      "source": [
        "\n",
        "\"\"\"\n",
        "\n",
        "length = multitrack.get_length()\n",
        "print(length)\n",
        "multitrack.trim(0, length)\n",
        "multitrack.binarize()\n",
        "\n",
        "multitrack.plot()\n",
        "\n",
        "\n",
        "print(d.files)\n",
        "\n",
        "for piece in d['valid']:\n",
        "  \n",
        "  valid.append(piece)\n",
        "\n",
        "#print(valid)\n",
        "\n",
        "for piece in d['train']:\n",
        "  \n",
        "  train.append(piece.shape)\n",
        "\n",
        "print(train)\n",
        "\n",
        "for piece in d['test']:\n",
        "  \n",
        "  test.append(piece.shape)\n",
        "\n",
        "#print(test)\n",
        "\n",
        "\n",
        "\n",
        "#print(piece.shape)\n",
        "\n",
        "test1 = d['train']\n",
        "print(test1.shape)\n",
        "\n",
        "!mkdir -p data\n",
        "\n",
        "src_file = Path(\"/content/drive/MyDrive/Colab Notebooks/Honours code/Jsb16thSeparated.npz\")\n",
        "dest_file = Path(\"/content/data/\")\n",
        "shutil.copy(src_file, dest_file)\n",
        "\n",
        "\n",
        "#test1alto = pypianoroll.Track(name='Alto', program=0, is_drum=False, pianoroll=np.ndarray(shape=(208, 128), dtype=bool))\n",
        "multitrack = pypianoroll.Multitrack(name='test1', resolution=24, tempo=np.ndarray(shape=(208,4),dtype=np.float16), tracks=[Track(name='Alto', program=0, is_drum=False, pianoroll=np.ndarray(shape=(228, 128), dtype=bool))])\n",
        "\n",
        "#print(test1alto)\n",
        "\n",
        "#test1alto.standardize()\n",
        "\n",
        "\n",
        "print(multitrack)\n",
        "\n",
        "multitrack.plot()\n",
        "\n",
        "#length = multitrack.get_length()\n",
        "#print(length)\n",
        "#multitrack.trim(0, length)\n",
        "#multitrack.standardize()\n",
        "\n",
        "#print(multitrack)\n",
        "#(resolution=24, tempo=array(shape=(288, 1), dtype=float64), tracks=[BinaryTrack(name='', program=0, is_drum=False, pianoroll=array(shape=(288, 128), dtype=bool))])\n",
        "\n",
        "\"\"\""
      ],
      "metadata": {
        "id": "0XDN-Wy56nDd"
      },
      "execution_count": null,
      "outputs": []
    },
    {
      "cell_type": "code",
      "execution_count": null,
      "metadata": {
        "colab": {
          "base_uri": "https://localhost:8080/"
        },
        "id": "GMpTmZYtwl2j",
        "outputId": "d4855b78-1a91-4f45-fdb5-03065c095d31"
      },
      "outputs": [
        {
          "output_type": "stream",
          "name": "stdout",
          "text": [
            "['.config', 'drive', 'JSB Chorales', 'sample_data']\n"
          ]
        }
      ],
      "source": [
        "dataset_zip = Path(\"/content/drive/MyDrive/Colab Notebooks/Honours code/JSB Chorales.zip\")\n",
        "#for item in os.listdir(\"/content/drive/MyDrive/Colab Notebooks/Honours code/\"): # loop through items in dir\n",
        "    #if item.endswith(\".zip\"): # check for \".zip\" extension\n",
        "file_name = dataset_zip #os.path.abspath(item) # get full path of files\n",
        "zip_ref = zipfile.ZipFile(file_name) # create zipfile object\n",
        "zip_ref.extractall() # extract file to dir\n",
        "zip_ref.close() # close file\n",
        "#os.remove(file_name) # delete zipped file\n",
        "\n",
        "print(os.listdir())"
      ]
    },
    {
      "cell_type": "code",
      "source": [
        "#import midi\n",
        "trackmid = midi.read_midifile(\"/content/JSB Chorales/test/102.mid\")"
      ],
      "metadata": {
        "id": "6cuDAYOWX7tJ"
      },
      "execution_count": null,
      "outputs": []
    },
    {
      "cell_type": "code",
      "execution_count": null,
      "metadata": {
        "colab": {
          "base_uri": "https://localhost:8080/",
          "height": 352
        },
        "id": "DaIgvzMXvOPK",
        "outputId": "afe3f017-0d1a-4391-d8af-b051a63a22c7"
      },
      "outputs": [
        {
          "output_type": "stream",
          "name": "stdout",
          "text": [
            "Multitrack(name=None, resolution=24, tempo=array(shape=(2208, 1), dtype=float64), tracks=[StandardTrack(name='', program=0, is_drum=False, pianoroll=array(shape=(2208, 128), dtype=uint8))])\n",
            "Multitrack(name=None, resolution=24, tempo=array(shape=(2208, 1), dtype=float64), tracks=[BinaryTrack(name='', program=0, is_drum=False, pianoroll=array(shape=(2208, 128), dtype=bool))])\n"
          ]
        },
        {
          "output_type": "execute_result",
          "data": {
            "text/plain": [
              "[<matplotlib.axes._subplots.AxesSubplot at 0x7f7a2aef3d90>]"
            ]
          },
          "metadata": {},
          "execution_count": 20
        },
        {
          "output_type": "display_data",
          "data": {
            "text/plain": [
              "<Figure size 432x288 with 1 Axes>"
            ],
            "image/png": "[encoded data removed]"
          },
          "metadata": {
            "image/png": {
              "width": 409,
              "height": 260
            },
            "needs_background": "light"
          }
        }
      ],
      "source": [
        "multitrack = pypianoroll.read(\"/content/JSB Chorales/test/105.mid\")\n",
        "\n",
        "#print(multimid)\n",
        "print(multitrack)\n",
        "#multitrack.trim(0, 12 * multitrack.resolution)\n",
        "multitrack.binarize()\n",
        "\n",
        "print(multitrack)\n",
        "\n",
        "multitrack.plot()\n"
      ]
    },
    {
      "cell_type": "code",
      "execution_count": null,
      "metadata": {
        "id": "5OD7TYxAYZJC"
      },
      "outputs": [],
      "source": [
        "\n",
        "\n",
        "#folder_path = \"train\"\n",
        "\n",
        "pieces = [f for f in os.listdir(train_dir) if os.path.isfile(os.path.join(train_dir, f))]\n",
        "\n",
        "for piece in pieces:\n",
        "\n",
        "    folder_name = piece.split('.')[0]\n",
        "\n",
        "    new_path = os.path.join(train_dir, folder_name)\n",
        "    if not os.path.exists(new_path):\n",
        "        os.makedirs(new_path)\n",
        "\n",
        "    old_piece_path = os.path.join(train_dir, piece)\n",
        "    new_piece_path = os.path.join(new_path, piece)\n",
        "    shutil.move(old_piece_path, new_piece_path)"
      ]
    },
    {
      "cell_type": "code",
      "source": [
        "measure_resolution = 4 * beat_resolution\n",
        "tempo_array = np.full((4 * 4 * measure_resolution, 1), tempo)\n",
        "assert 24 % beat_resolution == 0, (\n",
        "    \"beat_resolution must be a factor of 24 (the beat resolution used in \"\n",
        "    \"the source dataset).\"\n",
        ")\n",
        "assert len(programs) == len(is_drums) and len(programs) == len(track_names), (\n",
        "    \"Lengths of programs, is_drums and track_names must be the same.\"\n",
        ")    "
      ],
      "metadata": {
        "id": "x_8eGcVqitN2"
      },
      "execution_count": null,
      "outputs": []
    },
    {
      "cell_type": "code",
      "execution_count": null,
      "metadata": {
        "id": "8ECuH3PHbSqg"
      },
      "outputs": [],
      "source": [
        "train_data = []\n",
        "\n",
        "dataset_root = Path(\"/content/JSB Chorales/\")\n",
        "\n",
        "train_dir = os.path.join(dataset_root, 'train')\n",
        "\n",
        "# Iterate over all the songs in the ID list\n",
        "\n",
        "for filename in os.listdir(train_dir):\n",
        "    if filename.endswith(\".mid\") or filename.endswith(\".py\"):\n",
        "      #print(os.path.join(train_dir, filename))\n",
        "\n",
        "      multitrack = pypianoroll.read(os.path.join(train_dir, filename))\n",
        "      # Binarize the pianorolls\n",
        "      multitrack.binarize()\n",
        "      # Downsample the pianorolls (shape: n_timesteps x n_pitches)\n",
        "      multitrack.set_resolution(beat_resolution)\n",
        "      # Stack the pianoroll (shape: n_tracks x n_timesteps x n_pitches)\n",
        "      pianoroll = (multitrack.stack() > 0)\n",
        "      # Get the target pitch range only\n",
        "      pianoroll = pianoroll[:, :, lowest_pitch:lowest_pitch + n_pitches]\n",
        "      # Calculate the total measures\n",
        "      n_total_measures = multitrack.get_max_length() // measure_resolution\n",
        "      candidate = n_total_measures - n_measures\n",
        "      target_n_samples = min(n_total_measures // n_measures, n_samples_per_song)\n",
        "      # Randomly select a number of phrases from the multitrack pianoroll\n",
        "      for idx in np.random.choice(candidate, target_n_samples, False):\n",
        "        start = idx * measure_resolution\n",
        "        end = (idx + n_measures) * measure_resolution\n",
        "        # Skip the samples where some track(s) has too few notes\n",
        "        if (pianoroll.sum(axis=(1, 2)) < 10).any():\n",
        "          continue\n",
        "        train_data.append(pianoroll[:, start:end])\n",
        "# Stack all the collected pianoroll segments into one big array\n",
        "random.shuffle(train_data)\n",
        "data = np.stack(train_data)\n",
        "print(f\"Successfully collect {len(train_data)} samples\") #from {len(id_list)} songs\n",
        "print(f\"Data shape : {train_data.shape}\")\n",
        "\n",
        "\"\"\"\n",
        "      continue\n",
        "    else:\n",
        "      continue\n",
        "\n",
        "#for directory in os.listdir(train_dir):\n",
        "  # Load the multitrack as a pypianoroll.Multitrack instance\n",
        "  #song_dir = train_dir / directory / \n",
        "\n",
        "\"\"\""
      ]
    }
  ],
  "metadata": {
    "accelerator": "TPU",
    "colab": {
      "collapsed_sections": [],
      "name": "ReharmonisationGAN.ipynb",
      "provenance": [],
      "authorship_tag": "ABX9TyNUsnRYjirflvBFP/49M/Tz",
      "include_colab_link": true
    },
    "kernelspec": {
      "display_name": "Python 3",
      "name": "python3"
    },
    "language_info": {
      "name": "python"
    }
  },
  "nbformat": 4,
  "nbformat_minor": 0
}