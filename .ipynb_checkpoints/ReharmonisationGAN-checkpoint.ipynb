{
 "cells": [
  {
   "cell_type": "code",
   "execution_count": 1,
   "metadata": {
    "colab": {
     "base_uri": "https://localhost:8080/",
     "height": 1000
    },
    "id": "KqhCpWQoLbjp",
    "outputId": "7de28432-c00a-462b-8200-37504193c742"
   },
   "outputs": [
    {
     "name": "stdout",
     "output_type": "stream",
     "text": [
      "Requirement already satisfied: torch in /usr/local/lib/python3.7/dist-packages (1.11.0+cu113)\n",
      "Requirement already satisfied: torchvision in /usr/local/lib/python3.7/dist-packages (0.12.0+cu113)\n",
      "Collecting pypianoroll\n",
      "  Downloading pypianoroll-1.0.4-py3-none-any.whl (26 kB)\n",
      "Requirement already satisfied: matplotlib in /usr/local/lib/python3.7/dist-packages (3.2.2)\n",
      "Requirement already satisfied: tqdm in /usr/local/lib/python3.7/dist-packages (4.64.0)\n",
      "Collecting livelossplot\n",
      "  Downloading livelossplot-0.5.5-py3-none-any.whl (22 kB)\n",
      "Requirement already satisfied: gdown in /usr/local/lib/python3.7/dist-packages (4.4.0)\n",
      "Requirement already satisfied: typing-extensions in /usr/local/lib/python3.7/dist-packages (from torch) (4.2.0)\n",
      "Requirement already satisfied: requests in /usr/local/lib/python3.7/dist-packages (from torchvision) (2.23.0)\n",
      "Requirement already satisfied: pillow!=8.3.*,>=5.3.0 in /usr/local/lib/python3.7/dist-packages (from torchvision) (7.1.2)\n",
      "Requirement already satisfied: numpy in /usr/local/lib/python3.7/dist-packages (from torchvision) (1.21.6)\n",
      "Requirement already satisfied: scipy>=1.0.0 in /usr/local/lib/python3.7/dist-packages (from pypianoroll) (1.4.1)\n",
      "Collecting pretty-midi>=0.2.8\n",
      "  Downloading pretty_midi-0.2.9.tar.gz (5.6 MB)\n",
      "\u001b[K     |████████████████████████████████| 5.6 MB 6.9 MB/s \n",
      "\u001b[?25hRequirement already satisfied: pyparsing!=2.0.4,!=2.1.2,!=2.1.6,>=2.0.1 in /usr/local/lib/python3.7/dist-packages (from matplotlib) (3.0.9)\n",
      "Requirement already satisfied: python-dateutil>=2.1 in /usr/local/lib/python3.7/dist-packages (from matplotlib) (2.8.2)\n",
      "Requirement already satisfied: kiwisolver>=1.0.1 in /usr/local/lib/python3.7/dist-packages (from matplotlib) (1.4.2)\n",
      "Requirement already satisfied: cycler>=0.10 in /usr/local/lib/python3.7/dist-packages (from matplotlib) (0.11.0)\n",
      "Collecting mido>=1.1.16\n",
      "  Downloading mido-1.2.10-py2.py3-none-any.whl (51 kB)\n",
      "\u001b[K     |████████████████████████████████| 51 kB 8.8 MB/s \n",
      "\u001b[?25hRequirement already satisfied: six in /usr/local/lib/python3.7/dist-packages (from pretty-midi>=0.2.8->pypianoroll) (1.15.0)\n",
      "Collecting ipython==7.*\n",
      "  Downloading ipython-7.33.0-py3-none-any.whl (793 kB)\n",
      "\u001b[K     |████████████████████████████████| 793 kB 46.1 MB/s \n",
      "\u001b[?25hRequirement already satisfied: bokeh in /usr/local/lib/python3.7/dist-packages (from livelossplot) (2.3.3)\n",
      "Requirement already satisfied: pickleshare in /usr/local/lib/python3.7/dist-packages (from ipython==7.*->livelossplot) (0.7.5)\n",
      "Requirement already satisfied: decorator in /usr/local/lib/python3.7/dist-packages (from ipython==7.*->livelossplot) (4.4.2)\n",
      "Requirement already satisfied: backcall in /usr/local/lib/python3.7/dist-packages (from ipython==7.*->livelossplot) (0.2.0)\n",
      "Requirement already satisfied: setuptools>=18.5 in /usr/local/lib/python3.7/dist-packages (from ipython==7.*->livelossplot) (57.4.0)\n",
      "Requirement already satisfied: pygments in /usr/local/lib/python3.7/dist-packages (from ipython==7.*->livelossplot) (2.6.1)\n",
      "Collecting prompt-toolkit!=3.0.0,!=3.0.1,<3.1.0,>=2.0.0\n",
      "  Downloading prompt_toolkit-3.0.29-py3-none-any.whl (381 kB)\n",
      "\u001b[K     |████████████████████████████████| 381 kB 54.8 MB/s \n",
      "\u001b[?25hRequirement already satisfied: matplotlib-inline in /usr/local/lib/python3.7/dist-packages (from ipython==7.*->livelossplot) (0.1.3)\n",
      "Requirement already satisfied: traitlets>=4.2 in /usr/local/lib/python3.7/dist-packages (from ipython==7.*->livelossplot) (5.1.1)\n",
      "Requirement already satisfied: pexpect>4.3 in /usr/local/lib/python3.7/dist-packages (from ipython==7.*->livelossplot) (4.8.0)\n",
      "Requirement already satisfied: jedi>=0.16 in /usr/local/lib/python3.7/dist-packages (from ipython==7.*->livelossplot) (0.18.1)\n",
      "Requirement already satisfied: parso<0.9.0,>=0.8.0 in /usr/local/lib/python3.7/dist-packages (from jedi>=0.16->ipython==7.*->livelossplot) (0.8.3)\n",
      "Requirement already satisfied: ptyprocess>=0.5 in /usr/local/lib/python3.7/dist-packages (from pexpect>4.3->ipython==7.*->livelossplot) (0.7.0)\n",
      "Requirement already satisfied: wcwidth in /usr/local/lib/python3.7/dist-packages (from prompt-toolkit!=3.0.0,!=3.0.1,<3.1.0,>=2.0.0->ipython==7.*->livelossplot) (0.2.5)\n",
      "Requirement already satisfied: beautifulsoup4 in /usr/local/lib/python3.7/dist-packages (from gdown) (4.6.3)\n",
      "Requirement already satisfied: filelock in /usr/local/lib/python3.7/dist-packages (from gdown) (3.7.0)\n",
      "Requirement already satisfied: PyYAML>=3.10 in /usr/local/lib/python3.7/dist-packages (from bokeh->livelossplot) (3.13)\n",
      "Requirement already satisfied: packaging>=16.8 in /usr/local/lib/python3.7/dist-packages (from bokeh->livelossplot) (21.3)\n",
      "Requirement already satisfied: tornado>=5.1 in /usr/local/lib/python3.7/dist-packages (from bokeh->livelossplot) (5.1.1)\n",
      "Requirement already satisfied: Jinja2>=2.9 in /usr/local/lib/python3.7/dist-packages (from bokeh->livelossplot) (2.11.3)\n",
      "Requirement already satisfied: MarkupSafe>=0.23 in /usr/local/lib/python3.7/dist-packages (from Jinja2>=2.9->bokeh->livelossplot) (2.0.1)\n",
      "Requirement already satisfied: urllib3!=1.25.0,!=1.25.1,<1.26,>=1.21.1 in /usr/local/lib/python3.7/dist-packages (from requests->torchvision) (1.24.3)\n",
      "Requirement already satisfied: certifi>=2017.4.17 in /usr/local/lib/python3.7/dist-packages (from requests->torchvision) (2021.10.8)\n",
      "Requirement already satisfied: chardet<4,>=3.0.2 in /usr/local/lib/python3.7/dist-packages (from requests->torchvision) (3.0.4)\n",
      "Requirement already satisfied: idna<3,>=2.5 in /usr/local/lib/python3.7/dist-packages (from requests->torchvision) (2.10)\n",
      "Requirement already satisfied: PySocks!=1.5.7,>=1.5.6 in /usr/local/lib/python3.7/dist-packages (from requests->torchvision) (1.7.1)\n",
      "Building wheels for collected packages: pretty-midi\n",
      "  Building wheel for pretty-midi (setup.py) ... \u001b[?25l\u001b[?25hdone\n",
      "  Created wheel for pretty-midi: filename=pretty_midi-0.2.9-py3-none-any.whl size=5591955 sha256=99f55d07acd1e5816681a5e87afc7dc0608f581dea8b632b7d6da91a9ae4be7c\n",
      "  Stored in directory: /root/.cache/pip/wheels/ad/74/7c/a06473ca8dcb63efb98c1e67667ce39d52100f837835ea18fa\n",
      "Successfully built pretty-midi\n",
      "Installing collected packages: prompt-toolkit, mido, pretty-midi, ipython, pypianoroll, livelossplot\n",
      "  Attempting uninstall: prompt-toolkit\n",
      "    Found existing installation: prompt-toolkit 1.0.18\n",
      "    Uninstalling prompt-toolkit-1.0.18:\n",
      "      Successfully uninstalled prompt-toolkit-1.0.18\n",
      "  Attempting uninstall: ipython\n",
      "    Found existing installation: ipython 5.5.0\n",
      "    Uninstalling ipython-5.5.0:\n",
      "      Successfully uninstalled ipython-5.5.0\n",
      "\u001b[31mERROR: pip's dependency resolver does not currently take into account all the packages that are installed. This behaviour is the source of the following dependency conflicts.\n",
      "jupyter-console 5.2.0 requires prompt-toolkit<2.0.0,>=1.0.0, but you have prompt-toolkit 3.0.29 which is incompatible.\n",
      "google-colab 1.0.0 requires ipython~=5.5.0, but you have ipython 7.33.0 which is incompatible.\u001b[0m\n",
      "Successfully installed ipython-7.33.0 livelossplot-0.5.5 mido-1.2.10 pretty-midi-0.2.9 prompt-toolkit-3.0.29 pypianoroll-1.0.4\n"
     ]
    },
    {
     "data": {
      "application/vnd.colab-display-data+json": {
       "pip_warning": {
        "packages": [
         "IPython",
         "prompt_toolkit"
        ]
       }
      }
     },
     "metadata": {},
     "output_type": "display_data"
    }
   ],
   "source": [
    "#!pip3 install torch torchvision pypianoroll matplotlib tqdm livelossplot gdown"
   ]
  },
  {
   "cell_type": "code",
   "execution_count": 1,
   "metadata": {
    "colab": {
     "base_uri": "https://localhost:8080/"
    },
    "id": "35eGPXSOG52J",
    "outputId": "b1143ec3-bef6-42e5-d8e6-9e6a5ed07a4b"
   },
   "outputs": [
    {
     "ename": "ModuleNotFoundError",
     "evalue": "No module named 'torch'",
     "output_type": "error",
     "traceback": [
      "\u001b[1;31m---------------------------------------------------------------------------\u001b[0m",
      "\u001b[1;31mModuleNotFoundError\u001b[0m                       Traceback (most recent call last)",
      "Input \u001b[1;32mIn [1]\u001b[0m, in \u001b[0;36m<cell line: 17>\u001b[1;34m()\u001b[0m\n\u001b[0;32m     15\u001b[0m \u001b[38;5;28;01mimport\u001b[39;00m \u001b[38;5;21;01mnumpy\u001b[39;00m \u001b[38;5;28;01mas\u001b[39;00m \u001b[38;5;21;01mnp\u001b[39;00m\n\u001b[0;32m     16\u001b[0m \u001b[38;5;28;01mimport\u001b[39;00m \u001b[38;5;21;01mmatplotlib\u001b[39;00m\u001b[38;5;21;01m.\u001b[39;00m\u001b[38;5;21;01mpyplot\u001b[39;00m \u001b[38;5;28;01mas\u001b[39;00m \u001b[38;5;21;01mplt\u001b[39;00m\n\u001b[1;32m---> 17\u001b[0m \u001b[38;5;28;01mimport\u001b[39;00m \u001b[38;5;21;01mtorch\u001b[39;00m\n\u001b[0;32m     18\u001b[0m \u001b[38;5;28;01mimport\u001b[39;00m \u001b[38;5;21;01mpypianoroll\u001b[39;00m\n\u001b[0;32m     19\u001b[0m \u001b[38;5;28;01mimport\u001b[39;00m \u001b[38;5;21;01mpretty_midi\u001b[39;00m\n",
      "\u001b[1;31mModuleNotFoundError\u001b[0m: No module named 'torch'"
     ]
    }
   ],
   "source": [
    "#!pip3 install torch torchvision pypianoroll matplotlib tqdm livelossplot gdown\n",
    "\n",
    "#torch matplotlib tqdm livelossplot gdown \"pypianoroll>=1.0.2\"\n",
    "\n",
    "from IPython.display import clear_output\n",
    "from ipywidgets import interact, IntSlider\n",
    "\n",
    "import os, os.path, shutil\n",
    "import zipfile\n",
    "import random\n",
    "import json\n",
    "import pickle\n",
    "from pathlib import Path\n",
    "\n",
    "import numpy as np\n",
    "import matplotlib.pyplot as plt\n",
    "import torch\n",
    "import pypianoroll\n",
    "import pretty_midi\n",
    "from pypianoroll import Multitrack, Track\n",
    "from tqdm import tqdm\n",
    "from livelossplot import PlotLosses\n",
    "from livelossplot.outputs import MatplotlibPlot\n",
    "\n",
    "\n",
    "\n",
    "import itertools\n",
    "import matplotlib.pyplot as plt\n",
    "import matplotlib.gridspec as gridspec\n",
    "import moviepy.editor as mpy\n",
    "import music21\n",
    "from IPython import display\n",
    "import seaborn as sns\n",
    "\n",
    "from google.colab import drive\n",
    "\n",
    "drive.mount('/content/drive', force_remount=True)"
   ]
  },
  {
   "cell_type": "code",
   "execution_count": 3,
   "metadata": {
    "id": "FyjHZll9HAZW"
   },
   "outputs": [],
   "source": [
    "# Data\n",
    "n_tracks = 4  # number of tracks\n",
    "n_pitches = 83  # number of pitches\n",
    "lowest_pitch = 24  # MIDI note number of the lowest pitch\n",
    "n_samples_per_song = 8  # number of samples to extract from each song in the datset\n",
    "n_measures = 4  # number of measures per sample\n",
    "beat_resolution = 4  # temporal resolution of a beat (in timestep)\n",
    "programs = [0, 0, 0, 0]  # program number for each track\n",
    "is_drums = [False, False, False, False]  # drum indicator for each track\n",
    "track_names = ['Soprano', 'Alto', 'Tenor', 'Bass']  # name of each track\n",
    "tempo = 100\n",
    "\n",
    "measure_resolution = 4 * beat_resolution\n",
    "tempo_array = np.full((4 * 4 * measure_resolution, 1), tempo)\n",
    "\n",
    "# Training\n",
    "batch_size = 16\n",
    "latent_dim = 128\n",
    "n_steps = 1000\n",
    "\n",
    "# Sampling\n",
    "sample_interval = 10  # interval to run the sampler (in step)\n",
    "n_samples = 4\n",
    "\n",
    "#Directories\n",
    "!mkdir -p midiDataset"
   ]
  },
  {
   "cell_type": "code",
   "execution_count": 4,
   "metadata": {
    "colab": {
     "base_uri": "https://localhost:8080/"
    },
    "id": "4mjA8tdRRHiL",
    "outputId": "6fd951f2-a371-4baa-8f86-f0fb1dc8e19a"
   },
   "outputs": [
    {
     "name": "stdout",
     "output_type": "stream",
     "text": [
      "Files in '/content': ['.config', 'drive', 'midiDataset', 'sample_data']\n"
     ]
    }
   ],
   "source": [
    "cwd = os.getcwd()  # Get the current working directory (cwd)\n",
    "files = os.listdir(cwd)  # Get all the files in that directory\n",
    "print(\"Files in %r: %s\" % (cwd, files))"
   ]
  },
  {
   "cell_type": "code",
   "execution_count": 96,
   "metadata": {
    "id": "OMWZsxaCN4GX"
   },
   "outputs": [],
   "source": [
    "\"\"\"Midi dataset.\"\"\"\n",
    "\n",
    "from typing import Tuple\n",
    "from torch import Tensor\n",
    "\n",
    "import torch\n",
    "from torch import nn\n",
    "from torch.utils.data import Dataset\n",
    "\n",
    "import numpy as np\n",
    "from music21 import midi\n",
    "from music21 import converter\n",
    "from music21 import note, stream, duration, tempo\n",
    "\n",
    "\n",
    "class MidiDataset(Dataset):\n",
    "    \"\"\"MidiDataset.\n",
    "    Parameters\n",
    "    ----------\n",
    "    path: str\n",
    "        Path to dataset.\n",
    "    split: str, optional (default=\"train\")\n",
    "        Split of dataset.\n",
    "    n_bars: int, optional (default=2)\n",
    "        Number of bars.\n",
    "    n_steps_per_bar: int, optional (default=16)\n",
    "        Number of steps per bar.\n",
    "    \"\"\"\n",
    "\n",
    "    def __init__(\n",
    "        self,\n",
    "        path: str,\n",
    "        split: str = \"train\",\n",
    "        n_bars: int = 8,\n",
    "        n_steps_per_bar: int = 16,\n",
    "    ) -> None:\n",
    "        \"\"\"Initialize.\"\"\"\n",
    "        self.n_bars = n_bars\n",
    "        self.n_steps_per_bar = n_steps_per_bar\n",
    "        dataset = np.load(path, allow_pickle=True, encoding=\"bytes\")[split]\n",
    "        self.data_binary, self.data_ints, self.data = self.__preprocess__(dataset)\n",
    "\n",
    "    def __len__(self) -> int:\n",
    "        \"\"\"Return the number of samples in dataset.\"\"\"\n",
    "        return len(self.data_binary)\n",
    "\n",
    "    def __getitem__(self, index: int) -> Tensor:\n",
    "        \"\"\"Return one samples from dataset.\n",
    "        Parameters\n",
    "        ----------\n",
    "        index: int\n",
    "            Index of sample.\n",
    "        Returns\n",
    "        -------\n",
    "        Tensor:\n",
    "            Sample.\n",
    "        \"\"\"\n",
    "        return torch.from_numpy(self.data_binary[index]).float()\n",
    "\n",
    "    def __preprocess__(self, data: np.ndarray) -> Tuple[np.ndarray]:\n",
    "        \"\"\"Preprocess data.\n",
    "        Parameters\n",
    "        ----------\n",
    "        data: np.ndarray\n",
    "            Data.\n",
    "        Returns\n",
    "        -------\n",
    "        Tuple[np.ndarray]:\n",
    "            Data binary, data ints, preprocessed data.\n",
    "        \"\"\"\n",
    "        data_ints = []\n",
    "        for x in data:\n",
    "            skip = True\n",
    "            skip_rows = 0\n",
    "            while skip:\n",
    "                if not np.any(np.isnan(x[skip_rows: skip_rows + 4])):\n",
    "                    skip = False\n",
    "                else:\n",
    "                    skip_rows += 4\n",
    "            #print(x.shape)\n",
    "            if self.n_bars * self.n_steps_per_bar < x.shape[0]:\n",
    "                data_ints.append(x[skip_rows: self.n_bars * self.n_steps_per_bar + skip_rows, :])\n",
    "        \n",
    "        data_ints = np.array(data_ints)\n",
    "\n",
    "        #print(data_ints.shape)\n",
    "        self.n_songs = data_ints.shape[0]\n",
    "        self.n_tracks = data_ints.shape[2]\n",
    "        data_ints = data_ints.reshape([self.n_songs, self.n_bars * self.n_steps_per_bar, self.n_tracks])\n",
    "        #print(data_ints.shape)\n",
    "        max_note = n_pitches\n",
    "        mask = np.isnan(data_ints)\n",
    "        data_ints[mask] = max_note + 1\n",
    "        max_note = max_note + 1\n",
    "        data_ints = data_ints.astype(int)\n",
    "        #print(data_ints.shape)\n",
    "        \n",
    "        num_classes = max_note + 1\n",
    "        data_binary = np.eye(num_classes)[data_ints]\n",
    "        data_binary[data_binary == 0] = -1\n",
    "        data_binary = np.delete(data_binary, max_note, -1)\n",
    "        data_binary = data_binary.transpose([0, 1, 3, 2])\n",
    "        #print(data_binary.shape)\n",
    "        return data_binary, data_ints, data\n",
    "\n",
    "\n",
    "def binarise_output(output: np.ndarray) -> np.ndarray:\n",
    "    \"\"\"Binarize output.\n",
    "    Parameters\n",
    "    ----------\n",
    "    output: np.ndarray\n",
    "        Output array.\n",
    "    \"\"\"\n",
    "    max_pitches = np.argmax(output, axis=-1)\n",
    "    return max_pitches\n",
    "\n",
    "\n",
    "def postprocess(\n",
    "    output: np.ndarray,\n",
    "    n_tracks: int = 4,\n",
    "    n_bars: int = 8,\n",
    "    n_steps_per_bar: int = 16,\n",
    ") -> stream.Score:\n",
    "    \"\"\"Postprocess output.\n",
    "    Parameters\n",
    "    ----------\n",
    "    output: np.ndarray\n",
    "        Output array.\n",
    "    n_tracks: int, (default=4)\n",
    "        Number of tracks.\n",
    "    n_bars: int, (default=2)\n",
    "        Number of bars.\n",
    "    n_steps_per_bar: int, (default=16)\n",
    "        Number of steps per bar.\n",
    "    \"\"\"\n",
    "    parts = stream.Score()\n",
    "    parts.append(tempo.MetronomeMark(number=66))\n",
    "    max_pitches = binarise_output(output)\n",
    "    midi_note_score = np.vstack([\n",
    "        max_pitches[i].reshape([n_bars * n_steps_per_bar, n_tracks]) for i in range(len(output))\n",
    "    ])\n",
    "    for i in range(n_tracks):\n",
    "        last_x = int(midi_note_score[:, i][0])\n",
    "        s = stream.Part()\n",
    "        dur = 0\n",
    "        for idx, x in enumerate(midi_note_score[:, i]):\n",
    "            x = int(x)\n",
    "            if (x != last_x or idx % 4 == 0) and idx > 0:\n",
    "                n = note.Note(last_x)\n",
    "                n.duration = duration.Duration(dur)\n",
    "                s.append(n)\n",
    "                dur = 0\n",
    "            last_x = x\n",
    "            dur = dur + 0.25\n",
    "        n = note.Note(last_x)\n",
    "        n.duration = duration.Duration(dur)\n",
    "        s.append(n)\n",
    "        parts.append(s)\n",
    "    #print(parts)\n",
    "    return parts"
   ]
  },
  {
   "cell_type": "code",
   "execution_count": 97,
   "metadata": {
    "id": "-FoXxGR3MtTj"
   },
   "outputs": [],
   "source": [
    "from pypianoroll.track import BinaryTrack\n",
    "def save_pianoroll_as_midi(dataset,\n",
    "                  programs=programs,\n",
    "                  track_names=track_names,\n",
    "                  is_drums=is_drums,\n",
    "                  tempo=tempo,           # in bpm\n",
    "                  beat_resolution=beat_resolution,  # number of time steps\n",
    "                  destination_path=\"/content/midiDataset/\"\n",
    "                  ):\n",
    "    data_ = []\n",
    "    sopData = []\n",
    "\n",
    "    for piece in dataset:\n",
    "\n",
    "      pianoroll = piece > 0\n",
    "\n",
    "      #print(pianoroll.shape)\n",
    "\n",
    "    # Reshape batched pianoroll array to a single pianoroll array\n",
    "      pianoroll_ = pianoroll.reshape((-1, pianoroll.shape[1], pianoroll.shape[2]))\n",
    "\n",
    "      #print(pianoroll_.shape)\n",
    "\n",
    "    # Create the tracks   \n",
    "      tracks = []\n",
    "      for idx in range(pianoroll_.shape[2]):\n",
    "          tracks.append(pypianoroll.BinaryTrack(\n",
    "            track_names[idx], programs[idx], is_drums[idx], pianoroll_[..., idx]))\n",
    "          \n",
    "      multitrack = pypianoroll.Multitrack(\n",
    "          tracks=tracks, tempo=tempo_array, resolution=beat_resolution)\n",
    "      \n",
    "      data_.append(multitrack)\n",
    "\n",
    "      melody = []\n",
    "      for idx in range(1):\n",
    "        melody.append(pypianoroll.BinaryTrack(\n",
    "            track_names[idx], programs[idx], is_drums[idx], pianoroll_[..., idx]))\n",
    "        \n",
    "        sMultitrack = pypianoroll.Multitrack(\n",
    "          tracks=melody, tempo=tempo_array, resolution=beat_resolution)\n",
    "        \n",
    "        sopData.append(sMultitrack)\n",
    "        \n",
    "      \n",
    "\n",
    "    #print(tracks[0])\n",
    "    #print(sData_)\n",
    "      #print(multitrack)\n",
    "\n",
    "    #melody = []\n",
    "    #for track in (sopData):\n",
    "      #melody.append(track)\n",
    "      \n",
    "      #sData_.append(sMultitrack)\n",
    "    #print(sMultitrack)\n",
    "    sopData[1].write('./midiDataset/test.mid')\n",
    "    print('Midi saved to ', destination_path)\n",
    "    print(tracks)\n",
    "    #print(sopData)\n",
    "\n",
    "    #print(data_)\n",
    "    return data_, sopData\n",
    "    \n",
    "    \n",
    "    #return destination_path    \n",
    "    "
   ]
  },
  {
   "cell_type": "code",
   "execution_count": 98,
   "metadata": {
    "colab": {
     "base_uri": "https://localhost:8080/"
    },
    "id": "oQa48lVCGBCE",
    "outputId": "9ef821a0-f101-468f-9963-4b3a38ddf053"
   },
   "outputs": [
    {
     "name": "stdout",
     "output_type": "stream",
     "text": [
      "Midi saved to  /content/midiDataset/\n",
      "[BinaryTrack(name='Soprano', program=0, is_drum=False, pianoroll=array(shape=(128, 84), dtype=bool)), BinaryTrack(name='Alto', program=0, is_drum=False, pianoroll=array(shape=(128, 84), dtype=bool)), BinaryTrack(name='Tenor', program=0, is_drum=False, pianoroll=array(shape=(128, 84), dtype=bool)), BinaryTrack(name='Bass', program=0, is_drum=False, pianoroll=array(shape=(128, 84), dtype=bool))]\n"
     ]
    }
   ],
   "source": [
    "from torch.utils import data\n",
    "from numpy.core.fromnumeric import shape\n",
    "d = np.load(\"/content/drive/MyDrive/Colab Notebooks/Honours code/Jsb16thSeparated.npz\", allow_pickle=True, encoding = 'latin1')\n",
    "\n",
    "path = (\"/content/drive/MyDrive/Colab Notebooks/Honours code/Jsb16thSeparated.npz\")\n",
    "\n",
    "dataset = MidiDataset(path=path).data_binary\n",
    "\n",
    "#test_1 = dataset[:2]\n",
    "\n",
    "#print(dataset[0].shape)\n",
    "\n",
    "#dataset_2 = postprocess(output)\n",
    "#print(dataset)\n",
    "#print(d.files)\n",
    "train = d['train']\n",
    "test = d['test']\n",
    "valid = d['valid']\n",
    "\n",
    "#print(dataset.data)\n",
    "#MidiDataset.__getitem__(dataset, 2)\n",
    "data, sData = save_pianoroll_as_midi(dataset)\n",
    "\n",
    "#for roll in train:\n",
    "    #print(roll.shape)\n",
    "\n",
    "\n",
    "#show_pianoroll(track)\n",
    "\n"
   ]
  },
  {
   "cell_type": "code",
   "execution_count": 99,
   "metadata": {
    "colab": {
     "base_uri": "https://localhost:8080/"
    },
    "id": "g2VlFl-_rdTr",
    "outputId": "5c8b59b7-065d-4a04-cc64-120e0d864202"
   },
   "outputs": [
    {
     "name": "stderr",
     "output_type": "stream",
     "text": [
      "\n",
      "  0%|          | 0/228 [00:00<?, ?it/s]\u001b[A\n",
      "100%|██████████| 228/228 [00:00<00:00, 2120.14it/s]"
     ]
    },
    {
     "name": "stdout",
     "output_type": "stream",
     "text": [
      "Successfully collect 456 samples from 228 songs\n",
      "Data shape : (456, 4, 64, 84)\n",
      "(456, 4, 64, 84)\n"
     ]
    },
    {
     "name": "stderr",
     "output_type": "stream",
     "text": [
      "\n"
     ]
    }
   ],
   "source": [
    "dataT = []\n",
    "for multitrack in tqdm(data):\n",
    "  \n",
    "  multitrack.binarize()\n",
    "    # Downsample the pianorolls (shape: n_timesteps x n_pitches)\n",
    "  multitrack.set_resolution(beat_resolution)\n",
    "    # Stack the pianoroll (shape: n_tracks x n_timesteps x n_pitches)\n",
    "  pianoroll = (multitrack.stack() > 0)\n",
    "\n",
    "    #print(multitrack)\n",
    " \n",
    "    # Get the target pitch range only\n",
    "  pianoroll = pianoroll[:, :, lowest_pitch:lowest_pitch + n_pitches+1]\n",
    "    # Calculate the total measures\n",
    "  n_total_measures = multitrack.get_max_length() // measure_resolution\n",
    "  candidate = n_total_measures - n_measures\n",
    "  target_n_samples = min(n_total_measures // n_measures, n_samples_per_song)\n",
    "    # Randomly select a number of phrases from the multitrack pianoroll\n",
    "  for idx in np.random.choice(candidate, target_n_samples, False):\n",
    "      start = idx * measure_resolution\n",
    "      end = (idx + n_measures) * measure_resolution\n",
    "        # Skip the samples where some track(s) has too few notes\n",
    "      if (pianoroll.sum(axis=(1, 2)) < 10).any():\n",
    "          continue\n",
    "      dataT.append(pianoroll[:, start:end])\n",
    "# Stack all the collected pianoroll segments into one big array\n",
    "random.shuffle(dataT)\n",
    "dataT = np.stack(dataT)\n",
    "print(f\"Successfully collect {len(dataT)} samples from {len(data)} songs\")\n",
    "print(f\"Data shape : {dataT.shape}\")\n",
    "print(dataT.shape)\n"
   ]
  },
  {
   "cell_type": "code",
   "execution_count": 9,
   "metadata": {
    "colab": {
     "base_uri": "https://localhost:8080/",
     "height": 494
    },
    "id": "_daUTsqE3qts",
    "outputId": "16915b29-bf50-4120-f91a-8ed2656e8fa3"
   },
   "outputs": [
    {
     "data": {
      "image/png": "[encoded data removed]",
      "text/plain": [
       "<Figure size 1152x576 with 4 Axes>"
      ]
     },
     "metadata": {
      "image/png": {
       "height": 477,
       "width": 963
      },
      "needs_background": "light"
     },
     "output_type": "display_data"
    }
   ],
   "source": [
    "tracks = []\n",
    "for idx, (program, is_drum, track_name) in enumerate(zip(programs, is_drums, track_names)):\n",
    "    pianoroll = np.pad(\n",
    "        np.concatenate(dataT[:4], 1)[idx], ((0, 0), (lowest_pitch, 128 - lowest_pitch - (n_pitches + 1))))\n",
    "    tracks.append(pypianoroll.BinaryTrack(name=track_name, program=program, is_drum=is_drum, pianoroll=pianoroll))\n",
    "multitrack = Multitrack(tracks=tracks, tempo=tempo_array, resolution=beat_resolution)\n",
    "axs = multitrack.plot()\n",
    "plt.gcf().set_size_inches((16, 8))\n",
    "for ax in axs:\n",
    "    for x in range(measure_resolution, 4 * 4 * measure_resolution, measure_resolution):\n",
    "        if x % (measure_resolution * 4) == 0:\n",
    "            ax.axvline(x - 0.5, color='k')\n",
    "        else:\n",
    "            ax.axvline(x - 0.5, color='k', linestyle='-', linewidth=1)\n",
    "plt.show()"
   ]
  },
  {
   "cell_type": "code",
   "execution_count": 10,
   "metadata": {
    "id": "B0yGo5z1ujdi"
   },
   "outputs": [],
   "source": [
    "dataT = torch.as_tensor(dataT, dtype=torch.float32)\n",
    "dataset_ = torch.utils.data.TensorDataset(dataT)\n",
    "data_loader = torch.utils.data.DataLoader(\n",
    "    dataset_, batch_size=batch_size, drop_last=True, shuffle=True)"
   ]
  },
  {
   "cell_type": "code",
   "execution_count": 11,
   "metadata": {
    "id": "6Kt4UFUpu-vu"
   },
   "outputs": [],
   "source": [
    "class GeneratorBlock(torch.nn.Module):\n",
    "    def __init__(self, in_dim, out_dim, kernel, stride):\n",
    "        super().__init__()\n",
    "        self.transconv = torch.nn.ConvTranspose3d(in_dim, out_dim, kernel, stride)\n",
    "        self.batchnorm = torch.nn.BatchNorm3d(out_dim)\n",
    "    \n",
    "    def forward(self, x):\n",
    "        x = self.transconv(x)\n",
    "        x = self.batchnorm(x)\n",
    "        return torch.nn.functional.relu(x)"
   ]
  },
  {
   "cell_type": "code",
   "execution_count": 114,
   "metadata": {
    "id": "jAsm7Nwh7C-0"
   },
   "outputs": [],
   "source": [
    "class Generator(torch.nn.Module):\n",
    "    \"\"\"A convolutional neural network (CNN) based generator. The generator takes\n",
    "    as input a latent vector and outputs a fake sample.\"\"\"\n",
    "    def __init__(self):\n",
    "        super().__init__()\n",
    "        self.transconv0 = GeneratorBlock(latent_dim, 256, (4, 1, 1), (4, 1, 1))\n",
    "        self.transconv1 = GeneratorBlock(256, 128, (1, 4, 1), (1, 4, 1))\n",
    "        self.transconv2 = GeneratorBlock(128, 64, (1, 1, 4), (1, 1, 4))\n",
    "        self.transconv3 = GeneratorBlock(64, 32, (1, 1, 3), (1, 1, 1))\n",
    "        self.transconv4 = torch.nn.ModuleList([\n",
    "            GeneratorBlock(32, 16, (1, 4, 1), (1, 4, 1))\n",
    "            for _ in range(n_tracks)\n",
    "        ])\n",
    "        self.transconv5 = torch.nn.ModuleList([\n",
    "            GeneratorBlock(16, 1, (1, 1, 12), (1, 1, 12))\n",
    "            for _ in range(n_tracks)\n",
    "        ])\n",
    "\n",
    "    def forward(self, x):    \n",
    "      x = x.view(-1, latent_dim, 1, 1, 1)\n",
    "      print('shape 2 ' + str(x.shape))\n",
    "      x = self.transconv0(x)\n",
    "      print('shape 2.1 ' + str(x.shape))\n",
    "      x = self.transconv1(x)\n",
    "      print('shape 2.2 ' + str(x.shape))\n",
    "      x = self.transconv2(x)\n",
    "      print('shape 2.3 ' + str(x.shape))\n",
    "      x = self.transconv3(x)\n",
    "      x = [transconv(x) for transconv in self.transconv4]\n",
    "      x = torch.cat([transconv(x_) for x_, transconv in zip(x, self.transconv5)], 1)\n",
    "      x = x.view(-1, n_tracks, n_measures * measure_resolution, (n_pitches + 1))\n",
    "      print('shape 3 ' + str(x.shape))\n",
    "\n",
    "      return x"
   ]
  },
  {
   "cell_type": "code",
   "execution_count": 115,
   "metadata": {
    "id": "k40LtClO8XCe"
   },
   "outputs": [],
   "source": [
    "class LayerNorm(torch.nn.Module):\n",
    "    \"\"\"An implementation of Layer normalization that does not require size\n",
    "    information. Copied from https://github.com/pytorch/pytorch/issues/1959.\"\"\"\n",
    "    def __init__(self, n_features, eps=1e-5, affine=True):\n",
    "        super().__init__()\n",
    "        self.n_features = n_features\n",
    "        self.affine = affine\n",
    "        self.eps = eps\n",
    "        if self.affine:\n",
    "            self.gamma = torch.nn.Parameter(torch.Tensor(n_features).uniform_())\n",
    "            self.beta = torch.nn.Parameter(torch.zeros(n_features))\n",
    "\n",
    "    def forward(self, x):\n",
    "        shape = [-1] + [1] * (x.dim() - 1)\n",
    "        mean = x.view(x.size(0), -1).mean(1).view(*shape)\n",
    "        std = x.view(x.size(0), -1).std(1).view(*shape)\n",
    "        y = (x - mean) / (std + self.eps)\n",
    "        if self.affine:\n",
    "            shape = [1, -1] + [1] * (x.dim() - 2)\n",
    "            y = self.gamma.view(*shape) * y + self.beta.view(*shape)\n",
    "        return y"
   ]
  },
  {
   "cell_type": "code",
   "execution_count": 116,
   "metadata": {
    "id": "4KpdeUwG8aoi"
   },
   "outputs": [],
   "source": [
    "class DiscriminatorBlock(torch.nn.Module):\n",
    "    def __init__(self, in_dim, out_dim, kernel, stride):\n",
    "        super().__init__()\n",
    "        self.transconv = torch.nn.Conv3d(in_dim, out_dim, kernel, stride)\n",
    "        self.layernorm = LayerNorm(out_dim)\n",
    "    \n",
    "    def forward(self, x):\n",
    "        x = self.transconv(x)\n",
    "        x = self.layernorm(x)\n",
    "        return torch.nn.functional.leaky_relu(x)"
   ]
  },
  {
   "cell_type": "code",
   "execution_count": 117,
   "metadata": {
    "id": "XTp2r5EL8eOF"
   },
   "outputs": [],
   "source": [
    "class Discriminator(torch.nn.Module):\n",
    "    \"\"\"A convolutional neural network (CNN) based discriminator. The\n",
    "    discriminator takes as input either a real sample (in the training data) or\n",
    "    a fake sample (generated by the generator) and outputs a scalar indicating\n",
    "    its authentity.\n",
    "    \"\"\"\n",
    "    def __init__(self):\n",
    "        super().__init__()\n",
    "        self.conv0 = torch.nn.ModuleList([\n",
    "            DiscriminatorBlock(1, 16, (1, 1, 12), (1, 1, 12)) for _ in range(n_tracks)\n",
    "        ])\n",
    "        self.conv1 = torch.nn.ModuleList([\n",
    "            DiscriminatorBlock(16, 16, (1, 4, 1), (1, 4, 1)) for _ in range(n_tracks)\n",
    "        ])\n",
    "        self.conv2 = DiscriminatorBlock(16 * 4, 64, (1, 1, 3), (1, 1, 1))\n",
    "        self.conv3 = DiscriminatorBlock(64, 64, (1, 1, 4), (1, 1, 4))\n",
    "        self.conv4 = DiscriminatorBlock(64, 128, (1, 4, 1), (1, 4, 1))\n",
    "        self.conv5 = DiscriminatorBlock(128, 128, (2, 1, 1), (1, 1, 1))\n",
    "        self.conv6 = DiscriminatorBlock(128, 256, (1, 1, 1), (3, 1, 1))\n",
    "        self.dense = torch.nn.Linear(256, 1)\n",
    "\n",
    "    def forward(self, x):\n",
    "        x = x.view(-1, n_tracks, n_measures, measure_resolution, (n_pitches +1))\n",
    "        print('shape 4 ' + str(x.shape))\n",
    "        x = [conv(x[:, [i]]) for i, conv in enumerate(self.conv0)]\n",
    "        #print('shape 5 ' + str(x))\n",
    "        x = torch.cat([conv(x_) for x_, conv in zip(x, self.conv1)], 1)\n",
    "        print('shape 5 ' + str(x.shape))\n",
    "        x = self.conv2(x)\n",
    "        print('shape 6 ' + str(x.shape))\n",
    "        x = self.conv3(x)\n",
    "        print('shape 7 ' + str(x.shape))         \n",
    "        x = self.conv4(x)\n",
    "        x = self.conv5(x)\n",
    "        x = self.conv6(x)\n",
    "        x = x.view(-1, 256)\n",
    "        x = self.dense(x)\n",
    "        return x"
   ]
  },
  {
   "cell_type": "code",
   "execution_count": 118,
   "metadata": {
    "id": "SKcR26qb8i1T"
   },
   "outputs": [],
   "source": [
    "def compute_gradient_penalty(discriminator, real_samples, fake_samples):\n",
    "    \"\"\"Compute the gradient penalty for regularization. Intuitively, the\n",
    "    gradient penalty help stablize the magnitude of the gradients that the\n",
    "    discriminator provides to the generator, and thus help stablize the training\n",
    "    of the generator.\"\"\"\n",
    "    # Get random interpolations between real and fake samples\n",
    "    alpha = torch.rand(real_samples.size(0), 1, 1, 1).cuda()\n",
    "    interpolates = (alpha * real_samples + ((1 - alpha) * fake_samples))\n",
    "    interpolates = interpolates.requires_grad_(True)\n",
    "    # Get the discriminator output for the interpolations\n",
    "    d_interpolates = discriminator(interpolates)\n",
    "    # Get gradients w.r.t. the interpolations\n",
    "    fake = torch.ones(real_samples.size(0), 1).cuda()\n",
    "    gradients = torch.autograd.grad(\n",
    "        outputs=d_interpolates,\n",
    "        inputs=interpolates,\n",
    "        grad_outputs=fake,\n",
    "        create_graph=True,\n",
    "        retain_graph=True,\n",
    "        only_inputs=True\n",
    "    )[0]\n",
    "    # Compute gradient penalty\n",
    "    gradients = gradients.view(gradients.size(0), -1)\n",
    "    gradient_penalty = ((gradients.norm(2, dim=1) - 1) ** 2).mean()\n",
    "    return gradient_penalty"
   ]
  },
  {
   "cell_type": "code",
   "execution_count": 119,
   "metadata": {
    "id": "8A4J3Sdi8mBX"
   },
   "outputs": [],
   "source": [
    "def train_one_step(d_optimizer, g_optimizer, real_samples):\n",
    "    \"\"\"Train the networks for one step.\"\"\"\n",
    "    # Sample from the lantent distribution\n",
    "    latent = torch.randn(batch_size, latent_dim)\n",
    "\n",
    "    # Transfer data to GPU\n",
    "    if torch.cuda.is_available():\n",
    "        real_samples = real_samples.cuda()\n",
    "        latent = latent.cuda()\n",
    "\n",
    "    # === Train the discriminator ===\n",
    "    # Reset cached gradients to zero\n",
    "    d_optimizer.zero_grad()\n",
    "    # Get discriminator outputs for the real samples\n",
    "    prediction_real = discriminator(real_samples)\n",
    "    # Compute the loss function\n",
    "    # d_loss_real = torch.mean(torch.nn.functional.relu(1. - prediction_real))\n",
    "    d_loss_real = -torch.mean(prediction_real)\n",
    "    # Backpropagate the gradients\n",
    "    d_loss_real.backward()\n",
    "    \n",
    "    # Generate fake samples with the generator\n",
    "    fake_samples = generator(latent)\n",
    "    # Get discriminator outputs for the fake samples\n",
    "    prediction_fake_d = discriminator(fake_samples.detach())\n",
    "    # Compute the loss function\n",
    "    # d_loss_fake = torch.mean(torch.nn.functional.relu(1. + prediction_fake_d))\n",
    "    d_loss_fake = torch.mean(prediction_fake_d)\n",
    "    # Backpropagate the gradients\n",
    "    d_loss_fake.backward()\n",
    "\n",
    "    # Compute gradient penalty\n",
    "    gradient_penalty = 10.0 * compute_gradient_penalty(\n",
    "        discriminator, real_samples.data, fake_samples.data)\n",
    "    # Backpropagate the gradients\n",
    "    gradient_penalty.backward()\n",
    "\n",
    "    # Update the weights\n",
    "    d_optimizer.step()\n",
    "    \n",
    "    # === Train the generator ===\n",
    "    # Reset cached gradients to zero\n",
    "    g_optimizer.zero_grad()\n",
    "    # Get discriminator outputs for the fake samples\n",
    "    prediction_fake_g = discriminator(fake_samples)\n",
    "    # Compute the loss function\n",
    "    g_loss = -torch.mean(prediction_fake_g)\n",
    "    # Backpropagate the gradients\n",
    "    g_loss.backward()\n",
    "    # Update the weights\n",
    "    g_optimizer.step()\n",
    "\n",
    "    return d_loss_real + d_loss_fake, g_loss"
   ]
  },
  {
   "cell_type": "code",
   "execution_count": 120,
   "metadata": {
    "colab": {
     "base_uri": "https://localhost:8080/"
    },
    "id": "oDjPvR_X8wwN",
    "outputId": "6122ec5d-ac11-4832-f0ac-2ebe76f8f83b"
   },
   "outputs": [
    {
     "name": "stdout",
     "output_type": "stream",
     "text": [
      "Number of parameters in G: 311660\n",
      "Number of parameters in D: 134401\n"
     ]
    }
   ],
   "source": [
    "# Create data loader\n",
    "# data_loader = get_data_loader()\n",
    "\n",
    "# Create neural networks\n",
    "discriminator = Discriminator()\n",
    "generator = Generator()\n",
    "print(\"Number of parameters in G: {}\".format(\n",
    "    sum(p.numel() for p in generator.parameters() if p.requires_grad)))\n",
    "print(\"Number of parameters in D: {}\".format(\n",
    "    sum(p.numel() for p in discriminator.parameters() if p.requires_grad)))\n",
    "\n",
    "# Create optimizers\n",
    "d_optimizer = torch.optim.Adam(\n",
    "    discriminator.parameters(), lr=0.001,  betas=(0.5, 0.9))\n",
    "g_optimizer = torch.optim.Adam(\n",
    "    generator.parameters(), lr=0.001, betas=(0.5, 0.9))\n",
    "\n",
    "# Prepare the inputs for the sampler, which wil run during the training\n",
    "sample_latent = torch.randn(n_samples, latent_dim)\n",
    "\n",
    "# Transfer the neural nets and samples to GPU\n",
    "if torch.cuda.is_available():\n",
    "    discriminator = discriminator.cuda()\n",
    "    generator = generator.cuda()\n",
    "    sample_latent = sample_latent.cuda()\n",
    "\n",
    "# Create an empty dictionary to store history samples\n",
    "history_samples = {}\n",
    "\n",
    "# Create a LiveLoss logger instance for monitoring\n",
    "liveloss = PlotLosses(outputs=[MatplotlibPlot(cell_size=(6,2))])\n",
    "\n",
    "# Initialize step\n",
    "step = 0"
   ]
  },
  {
   "cell_type": "code",
   "execution_count": 121,
   "metadata": {
    "colab": {
     "base_uri": "https://localhost:8080/",
     "height": 763
    },
    "id": "B7E5wnER85xH",
    "outputId": "1998bef2-2da6-4a75-f06c-d49e8228deeb"
   },
   "outputs": [
    {
     "name": "stderr",
     "output_type": "stream",
     "text": [
      "\r",
      "  0%|                                                  | 0/3000 [00:00<?, ?it/s]"
     ]
    },
    {
     "name": "stdout",
     "output_type": "stream",
     "text": [
      "shape 4 torch.Size([16, 4, 4, 16, 84])\n",
      "shape 5 torch.Size([16, 64, 4, 4, 7])\n",
      "shape 6 torch.Size([16, 64, 4, 4, 5])\n",
      "shape 7 torch.Size([16, 64, 4, 4, 1])\n",
      "shape 2 torch.Size([16, 128, 1, 1, 1])\n",
      "shape 2.1 torch.Size([16, 256, 4, 1, 1])\n",
      "shape 2.2 torch.Size([16, 128, 4, 4, 1])\n",
      "shape 2.3 torch.Size([16, 64, 4, 4, 4])\n"
     ]
    },
    {
     "ename": "RuntimeError",
     "evalue": "ignored",
     "output_type": "error",
     "traceback": [
      "\u001b[0;31m---------------------------------------------------------------------------\u001b[0m",
      "\u001b[0;31mRuntimeError\u001b[0m                              Traceback (most recent call last)",
      "\u001b[0;32m<ipython-input-121-cf62414ce4a6>\u001b[0m in \u001b[0;36m<module>\u001b[0;34m()\u001b[0m\n\u001b[1;32m      8\u001b[0m         \u001b[0;31m# Train the neural networks\u001b[0m\u001b[0;34m\u001b[0m\u001b[0;34m\u001b[0m\u001b[0;34m\u001b[0m\u001b[0m\n\u001b[1;32m      9\u001b[0m         \u001b[0mgenerator\u001b[0m\u001b[0;34m.\u001b[0m\u001b[0mtrain\u001b[0m\u001b[0;34m(\u001b[0m\u001b[0;34m)\u001b[0m\u001b[0;34m\u001b[0m\u001b[0;34m\u001b[0m\u001b[0m\n\u001b[0;32m---> 10\u001b[0;31m         \u001b[0md_loss\u001b[0m\u001b[0;34m,\u001b[0m \u001b[0mg_loss\u001b[0m \u001b[0;34m=\u001b[0m \u001b[0mtrain_one_step\u001b[0m\u001b[0;34m(\u001b[0m\u001b[0md_optimizer\u001b[0m\u001b[0;34m,\u001b[0m \u001b[0mg_optimizer\u001b[0m\u001b[0;34m,\u001b[0m \u001b[0mreal_samples\u001b[0m\u001b[0;34m[\u001b[0m\u001b[0;36m0\u001b[0m\u001b[0;34m]\u001b[0m\u001b[0;34m)\u001b[0m\u001b[0;34m\u001b[0m\u001b[0;34m\u001b[0m\u001b[0m\n\u001b[0m\u001b[1;32m     11\u001b[0m \u001b[0;34m\u001b[0m\u001b[0m\n\u001b[1;32m     12\u001b[0m         \u001b[0;31m# Record smoothened loss values to LiveLoss logger\u001b[0m\u001b[0;34m\u001b[0m\u001b[0;34m\u001b[0m\u001b[0;34m\u001b[0m\u001b[0m\n",
      "\u001b[0;32m<ipython-input-119-03bcd6b2a8f0>\u001b[0m in \u001b[0;36mtrain_one_step\u001b[0;34m(d_optimizer, g_optimizer, real_samples)\u001b[0m\n\u001b[1;32m     21\u001b[0m \u001b[0;34m\u001b[0m\u001b[0m\n\u001b[1;32m     22\u001b[0m     \u001b[0;31m# Generate fake samples with the generator\u001b[0m\u001b[0;34m\u001b[0m\u001b[0;34m\u001b[0m\u001b[0;34m\u001b[0m\u001b[0m\n\u001b[0;32m---> 23\u001b[0;31m     \u001b[0mfake_samples\u001b[0m \u001b[0;34m=\u001b[0m \u001b[0mgenerator\u001b[0m\u001b[0;34m(\u001b[0m\u001b[0mlatent\u001b[0m\u001b[0;34m)\u001b[0m\u001b[0;34m\u001b[0m\u001b[0;34m\u001b[0m\u001b[0m\n\u001b[0m\u001b[1;32m     24\u001b[0m     \u001b[0;31m# Get discriminator outputs for the fake samples\u001b[0m\u001b[0;34m\u001b[0m\u001b[0;34m\u001b[0m\u001b[0;34m\u001b[0m\u001b[0m\n\u001b[1;32m     25\u001b[0m     \u001b[0mprediction_fake_d\u001b[0m \u001b[0;34m=\u001b[0m \u001b[0mdiscriminator\u001b[0m\u001b[0;34m(\u001b[0m\u001b[0mfake_samples\u001b[0m\u001b[0;34m.\u001b[0m\u001b[0mdetach\u001b[0m\u001b[0;34m(\u001b[0m\u001b[0;34m)\u001b[0m\u001b[0;34m)\u001b[0m\u001b[0;34m\u001b[0m\u001b[0;34m\u001b[0m\u001b[0m\n",
      "\u001b[0;32m/usr/local/lib/python3.7/dist-packages/torch/nn/modules/module.py\u001b[0m in \u001b[0;36m_call_impl\u001b[0;34m(self, *input, **kwargs)\u001b[0m\n\u001b[1;32m   1108\u001b[0m         if not (self._backward_hooks or self._forward_hooks or self._forward_pre_hooks or _global_backward_hooks\n\u001b[1;32m   1109\u001b[0m                 or _global_forward_hooks or _global_forward_pre_hooks):\n\u001b[0;32m-> 1110\u001b[0;31m             \u001b[0;32mreturn\u001b[0m \u001b[0mforward_call\u001b[0m\u001b[0;34m(\u001b[0m\u001b[0;34m*\u001b[0m\u001b[0minput\u001b[0m\u001b[0;34m,\u001b[0m \u001b[0;34m**\u001b[0m\u001b[0mkwargs\u001b[0m\u001b[0;34m)\u001b[0m\u001b[0;34m\u001b[0m\u001b[0;34m\u001b[0m\u001b[0m\n\u001b[0m\u001b[1;32m   1111\u001b[0m         \u001b[0;31m# Do not call functions when jit is used\u001b[0m\u001b[0;34m\u001b[0m\u001b[0;34m\u001b[0m\u001b[0;34m\u001b[0m\u001b[0m\n\u001b[1;32m   1112\u001b[0m         \u001b[0mfull_backward_hooks\u001b[0m\u001b[0;34m,\u001b[0m \u001b[0mnon_full_backward_hooks\u001b[0m \u001b[0;34m=\u001b[0m \u001b[0;34m[\u001b[0m\u001b[0;34m]\u001b[0m\u001b[0;34m,\u001b[0m \u001b[0;34m[\u001b[0m\u001b[0;34m]\u001b[0m\u001b[0;34m\u001b[0m\u001b[0;34m\u001b[0m\u001b[0m\n",
      "\u001b[0;32m<ipython-input-114-b78ce647ba56>\u001b[0m in \u001b[0;36mforward\u001b[0;34m(self, x)\u001b[0m\n\u001b[1;32m     29\u001b[0m       \u001b[0mx\u001b[0m \u001b[0;34m=\u001b[0m \u001b[0;34m[\u001b[0m\u001b[0mtransconv\u001b[0m\u001b[0;34m(\u001b[0m\u001b[0mx\u001b[0m\u001b[0;34m)\u001b[0m \u001b[0;32mfor\u001b[0m \u001b[0mtransconv\u001b[0m \u001b[0;32min\u001b[0m \u001b[0mself\u001b[0m\u001b[0;34m.\u001b[0m\u001b[0mtransconv4\u001b[0m\u001b[0;34m]\u001b[0m\u001b[0;34m\u001b[0m\u001b[0;34m\u001b[0m\u001b[0m\n\u001b[1;32m     30\u001b[0m       \u001b[0mx\u001b[0m \u001b[0;34m=\u001b[0m \u001b[0mtorch\u001b[0m\u001b[0;34m.\u001b[0m\u001b[0mcat\u001b[0m\u001b[0;34m(\u001b[0m\u001b[0;34m[\u001b[0m\u001b[0mtransconv\u001b[0m\u001b[0;34m(\u001b[0m\u001b[0mx_\u001b[0m\u001b[0;34m)\u001b[0m \u001b[0;32mfor\u001b[0m \u001b[0mx_\u001b[0m\u001b[0;34m,\u001b[0m \u001b[0mtransconv\u001b[0m \u001b[0;32min\u001b[0m \u001b[0mzip\u001b[0m\u001b[0;34m(\u001b[0m\u001b[0mx\u001b[0m\u001b[0;34m,\u001b[0m \u001b[0mself\u001b[0m\u001b[0;34m.\u001b[0m\u001b[0mtransconv5\u001b[0m\u001b[0;34m)\u001b[0m\u001b[0;34m]\u001b[0m\u001b[0;34m,\u001b[0m \u001b[0;36m1\u001b[0m\u001b[0;34m)\u001b[0m\u001b[0;34m\u001b[0m\u001b[0;34m\u001b[0m\u001b[0m\n\u001b[0;32m---> 31\u001b[0;31m       \u001b[0mx\u001b[0m \u001b[0;34m=\u001b[0m \u001b[0mx\u001b[0m\u001b[0;34m.\u001b[0m\u001b[0mview\u001b[0m\u001b[0;34m(\u001b[0m\u001b[0;34m-\u001b[0m\u001b[0;36m1\u001b[0m\u001b[0;34m,\u001b[0m \u001b[0mn_tracks\u001b[0m\u001b[0;34m,\u001b[0m \u001b[0mn_measures\u001b[0m \u001b[0;34m*\u001b[0m \u001b[0mmeasure_resolution\u001b[0m\u001b[0;34m,\u001b[0m \u001b[0;34m(\u001b[0m\u001b[0mn_pitches\u001b[0m \u001b[0;34m+\u001b[0m \u001b[0;36m1\u001b[0m\u001b[0;34m)\u001b[0m\u001b[0;34m)\u001b[0m\u001b[0;34m\u001b[0m\u001b[0;34m\u001b[0m\u001b[0m\n\u001b[0m\u001b[1;32m     32\u001b[0m       \u001b[0mprint\u001b[0m\u001b[0;34m(\u001b[0m\u001b[0;34m'shape 3 '\u001b[0m \u001b[0;34m+\u001b[0m \u001b[0mstr\u001b[0m\u001b[0;34m(\u001b[0m\u001b[0mx\u001b[0m\u001b[0;34m.\u001b[0m\u001b[0mshape\u001b[0m\u001b[0;34m)\u001b[0m\u001b[0;34m)\u001b[0m\u001b[0;34m\u001b[0m\u001b[0;34m\u001b[0m\u001b[0m\n\u001b[1;32m     33\u001b[0m \u001b[0;34m\u001b[0m\u001b[0m\n",
      "\u001b[0;31mRuntimeError\u001b[0m: shape '[-1, 4, 64, 84]' is invalid for input of size 294912"
     ]
    }
   ],
   "source": [
    "# Create a progress bar instance for monitoring\n",
    "progress_bar = tqdm(total=n_steps, initial=step, ncols=80, mininterval=1)\n",
    "\n",
    "# Start iterations\n",
    "while step < n_steps + 1:\n",
    "    # Iterate over the dataset\n",
    "    for real_samples in data_loader:\n",
    "        # Train the neural networks\n",
    "        generator.train()\n",
    "        d_loss, g_loss = train_one_step(d_optimizer, g_optimizer, real_samples[0])\n",
    "\n",
    "        # Record smoothened loss values to LiveLoss logger\n",
    "        if step > 0:\n",
    "            running_d_loss = 0.05 * d_loss + 0.95 * running_d_loss\n",
    "            running_g_loss = 0.05 * g_loss + 0.95 * running_g_loss\n",
    "        else:\n",
    "            running_d_loss, running_g_loss = 0.0, 0.0\n",
    "        liveloss.update({'negative_critic_loss': -running_d_loss})\n",
    "        # liveloss.update({'d_loss': running_d_loss, 'g_loss': running_g_loss})\n",
    "        \n",
    "        # Update losses to progress bar\n",
    "        progress_bar.set_description_str(\n",
    "            \"(d_loss={: 8.6f}, g_loss={: 8.6f})\".format(d_loss, g_loss))\n",
    "        \n",
    "        if step % sample_interval == 0:\n",
    "            # Get generated samples\n",
    "            generator.eval()\n",
    "            samples = generator(sample_latent).cpu().detach().numpy()\n",
    "            history_samples[step] = samples\n",
    "\n",
    "            #Display loss curves\n",
    "            #clear_output(True)\n",
    "            #if step > 0:\n",
    "              #liveloss.send()\n",
    "            \n",
    "            # Display generated samples\n",
    "            samples = samples.transpose(1, 0, 2, 3).reshape(n_tracks, -1, (n_pitches+1))\n",
    "            tracks = []\n",
    "            for idx, (program, is_drum, track_name) in enumerate(\n",
    "                zip(programs, is_drums, track_names)\n",
    "            ):\n",
    "                pianoroll = np.pad(\n",
    "                    samples[idx] > 0.5,\n",
    "                    ((0, 0), (lowest_pitch, 128 - lowest_pitch - (n_pitches+1)))\n",
    "                )\n",
    "                tracks.append(\n",
    "                    pypianoroll.BinaryTrack(\n",
    "                        name=track_name,\n",
    "                        program=program,\n",
    "                        is_drum=is_drum,\n",
    "                        pianoroll=pianoroll\n",
    "                    )\n",
    "                )\n",
    "            m = Multitrack(\n",
    "                tracks=tracks,\n",
    "                tempo=tempo_array,\n",
    "                resolution=beat_resolution\n",
    "            )\n",
    "            axs = m.plot()\n",
    "            plt.gcf().set_size_inches((16, 8))\n",
    "            for ax in axs:\n",
    "                for x in range(\n",
    "                    measure_resolution,\n",
    "                    4 * measure_resolution * n_measures,\n",
    "                    measure_resolution\n",
    "                ):\n",
    "                    if x % (measure_resolution * 4) == 0:\n",
    "                        ax.axvline(x - 0.5, color='k')\n",
    "                    else:\n",
    "                        ax.axvline(x - 0.5, color='k', linestyle='-', linewidth=1)\n",
    "            plt.show()\n",
    "            \n",
    "        step += 1\n",
    "        progress_bar.update(1)\n",
    "        if step >= n_steps:\n",
    "            break"
   ]
  },
  {
   "cell_type": "code",
   "execution_count": 82,
   "metadata": {
    "colab": {
     "base_uri": "https://localhost:8080/",
     "height": 253
    },
    "id": "QYXLpSTI9Epq",
    "outputId": "a0076801-72ea-4e47-ac12-9d6e8800abf1"
   },
   "outputs": [
    {
     "name": "stdout",
     "output_type": "stream",
     "text": [
      "Step=0\n"
     ]
    },
    {
     "ename": "KeyError",
     "evalue": "ignored",
     "output_type": "error",
     "traceback": [
      "\u001b[0;31m---------------------------------------------------------------------------\u001b[0m",
      "\u001b[0;31mKeyError\u001b[0m                                  Traceback (most recent call last)",
      "\u001b[0;32m<ipython-input-82-006f1edbbdd0>\u001b[0m in \u001b[0;36m<module>\u001b[0;34m()\u001b[0m\n\u001b[1;32m      3\u001b[0m \u001b[0;32mfor\u001b[0m \u001b[0mstep\u001b[0m \u001b[0;32min\u001b[0m \u001b[0msteps\u001b[0m\u001b[0;34m:\u001b[0m\u001b[0;34m\u001b[0m\u001b[0;34m\u001b[0m\u001b[0m\n\u001b[1;32m      4\u001b[0m     \u001b[0mprint\u001b[0m\u001b[0;34m(\u001b[0m\u001b[0;34mf\"Step={step}\"\u001b[0m\u001b[0;34m)\u001b[0m\u001b[0;34m\u001b[0m\u001b[0;34m\u001b[0m\u001b[0m\n\u001b[0;32m----> 5\u001b[0;31m     \u001b[0msamples\u001b[0m \u001b[0;34m=\u001b[0m \u001b[0mhistory_samples\u001b[0m\u001b[0;34m[\u001b[0m\u001b[0mstep\u001b[0m\u001b[0;34m]\u001b[0m\u001b[0;34m.\u001b[0m\u001b[0mtranspose\u001b[0m\u001b[0;34m(\u001b[0m\u001b[0;36m1\u001b[0m\u001b[0;34m,\u001b[0m \u001b[0;36m0\u001b[0m\u001b[0;34m,\u001b[0m \u001b[0;36m2\u001b[0m\u001b[0;34m,\u001b[0m \u001b[0;36m3\u001b[0m\u001b[0;34m)\u001b[0m\u001b[0;34m.\u001b[0m\u001b[0mreshape\u001b[0m\u001b[0;34m(\u001b[0m\u001b[0mn_tracks\u001b[0m\u001b[0;34m,\u001b[0m \u001b[0;34m-\u001b[0m\u001b[0;36m1\u001b[0m\u001b[0;34m,\u001b[0m \u001b[0;34m(\u001b[0m\u001b[0mn_pitches\u001b[0m\u001b[0;34m+\u001b[0m\u001b[0;36m1\u001b[0m\u001b[0;34m)\u001b[0m\u001b[0;34m)\u001b[0m\u001b[0;34m\u001b[0m\u001b[0;34m\u001b[0m\u001b[0m\n\u001b[0m\u001b[1;32m      6\u001b[0m     \u001b[0mtracks\u001b[0m \u001b[0;34m=\u001b[0m \u001b[0;34m[\u001b[0m\u001b[0;34m]\u001b[0m\u001b[0;34m\u001b[0m\u001b[0;34m\u001b[0m\u001b[0m\n\u001b[1;32m      7\u001b[0m     \u001b[0;32mfor\u001b[0m \u001b[0midx\u001b[0m\u001b[0;34m,\u001b[0m \u001b[0;34m(\u001b[0m\u001b[0mprogram\u001b[0m\u001b[0;34m,\u001b[0m \u001b[0mis_drum\u001b[0m\u001b[0;34m,\u001b[0m \u001b[0mtrack_name\u001b[0m\u001b[0;34m)\u001b[0m \u001b[0;32min\u001b[0m \u001b[0menumerate\u001b[0m\u001b[0;34m(\u001b[0m\u001b[0mzip\u001b[0m\u001b[0;34m(\u001b[0m\u001b[0mprograms\u001b[0m\u001b[0;34m,\u001b[0m \u001b[0mis_drums\u001b[0m\u001b[0;34m,\u001b[0m \u001b[0mtrack_names\u001b[0m\u001b[0;34m)\u001b[0m\u001b[0;34m)\u001b[0m\u001b[0;34m:\u001b[0m\u001b[0;34m\u001b[0m\u001b[0;34m\u001b[0m\u001b[0m\n",
      "\u001b[0;31mKeyError\u001b[0m: 0"
     ]
    }
   ],
   "source": [
    "# Show history\n",
    "steps = [0, sample_interval, 10 * sample_interval, 100 * sample_interval, n_steps]\n",
    "for step in steps:\n",
    "    print(f\"Step={step}\")\n",
    "    samples = history_samples[step].transpose(1, 0, 2, 3).reshape(n_tracks, -1, (n_pitches+1))\n",
    "    tracks = []\n",
    "    for idx, (program, is_drum, track_name) in enumerate(zip(programs, is_drums, track_names)):\n",
    "        pianoroll = np.pad(\n",
    "            samples[idx] > 0.5,\n",
    "            ((0, 0), (lowest_pitch, 128 - lowest_pitch - (n_pitches+1)))\n",
    "        )\n",
    "        tracks.append(\n",
    "            pypianoroll.BinaryTrack(\n",
    "                name=track_name,\n",
    "                program=program,\n",
    "                is_drum=is_drum,\n",
    "                pianoroll=pianoroll,\n",
    "            )\n",
    "        )\n",
    "    \n",
    "    #for track in tracks:\n",
    "      #track.standardize()\n",
    "\n",
    "      #print(track)\n",
    "\n",
    "    #print(tracks)\n",
    "    m = Multitrack(tracks=tracks, tempo=tempo_array, resolution=beat_resolution)\n",
    "    \n",
    "    m.binarize()\n",
    "    m.set_resolution(beat_resolution)\n",
    "\n",
    "    axs = m.plot()\n",
    "    for ax in axs:\n",
    "        for x in range(\n",
    "            measure_resolution,\n",
    "            4 * measure_resolution * n_measures,\n",
    "            measure_resolution\n",
    "        ):\n",
    "            if x % (measure_resolution * 4) == 0:\n",
    "                ax.axvline(x - 0.5, color='k')\n",
    "            else:\n",
    "                ax.axvline(x - 0.5, color='k', linestyle='-', linewidth=1)\n",
    "    plt.gcf().set_size_inches((16, 8))\n",
    "    plt.show()\n",
    "\n",
    "    print(m)\n",
    "\n",
    "m.write('./test.mid')"
   ]
  },
  {
   "cell_type": "code",
   "execution_count": 106,
   "metadata": {
    "colab": {
     "base_uri": "https://localhost:8080/"
    },
    "id": "kL1UnClJptxT",
    "outputId": "7bfa8c80-14a4-47af-a877-9f9bcaf4afc5"
   },
   "outputs": [
    {
     "name": "stdout",
     "output_type": "stream",
     "text": [
      "(4, 4, 64, 84)\n"
     ]
    }
   ],
   "source": [
    "s = history_samples[step].transpose(1, 0, 2, 3)\n",
    "print(s.shape)\n",
    "#for sample\n",
    "#print(latent.shape)"
   ]
  },
  {
   "cell_type": "markdown",
   "metadata": {
    "id": "tRNJaQaGAchg"
   },
   "source": [
    "EVALUATION"
   ]
  },
  {
   "cell_type": "code",
   "execution_count": 110,
   "metadata": {
    "colab": {
     "base_uri": "https://localhost:8080/"
    },
    "id": "Z5eN9g6hAcAS",
    "outputId": "03ff975a-6254-48ba-e9ac-c174f63da349"
   },
   "outputs": [
    {
     "name": "stdout",
     "output_type": "stream",
     "text": [
      "nan\n"
     ]
    }
   ],
   "source": [
    "pianoroll = m.stack() > 0\n",
    "\n",
    "ebr = pypianoroll.pitch_range(pianoroll)\n",
    "\n",
    "print(ebr)\n",
    "\n",
    "\n",
    "#def number_of_notes()"
   ]
  }
 ],
 "metadata": {
  "accelerator": "GPU",
  "colab": {
   "collapsed_sections": [],
   "name": "ReharmonisationGAN.ipynb",
   "provenance": []
  },
  "kernelspec": {
   "display_name": "Python [conda env:project_env]",
   "language": "python",
   "name": "conda-env-project_env-py"
  },
  "language_info": {
   "codemirror_mode": {
    "name": "ipython",
    "version": 3
   },
   "file_extension": ".py",
   "mimetype": "text/x-python",
   "name": "python",
   "nbconvert_exporter": "python",
   "pygments_lexer": "ipython3",
   "version": "3.8.13"
  }
 },
 "nbformat": 4,
 "nbformat_minor": 1
}
